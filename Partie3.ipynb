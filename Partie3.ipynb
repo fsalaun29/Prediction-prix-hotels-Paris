{
 "cells": [
  {
   "cell_type": "markdown",
   "metadata": {},
   "source": [
    "# 3) Déterminants du prix des hôtels"
   ]
  },
  {
   "cell_type": "code",
   "execution_count": 209,
   "metadata": {},
   "outputs": [],
   "source": [
    "import numpy as np\n",
    "import pandas as pd\n",
    "import matplotlib.pyplot as plt\n",
    "import seaborn as sns\n",
    "from statsmodels.stats.diagnostic import het_breuschpagan as hb\n",
    "import statsmodels.formula.api as smf\n",
    "from statsmodels.stats.outliers_influence import variance_inflation_factor\n",
    "import statsmodels.api as sm\n",
    "from scipy.stats import t, shapiro"
   ]
  },
  {
   "cell_type": "code",
   "execution_count": 210,
   "metadata": {},
   "outputs": [
    {
     "data": {
      "text/html": [
       "<div>\n",
       "<style scoped>\n",
       "    .dataframe tbody tr th:only-of-type {\n",
       "        vertical-align: middle;\n",
       "    }\n",
       "\n",
       "    .dataframe tbody tr th {\n",
       "        vertical-align: top;\n",
       "    }\n",
       "\n",
       "    .dataframe thead th {\n",
       "        text-align: right;\n",
       "    }\n",
       "</style>\n",
       "<table border=\"1\" class=\"dataframe\">\n",
       "  <thead>\n",
       "    <tr style=\"text-align: right;\">\n",
       "      <th></th>\n",
       "      <th>Hôtels</th>\n",
       "      <th>Note moyenne</th>\n",
       "      <th>Nombre de commentaires</th>\n",
       "      <th>Prix</th>\n",
       "      <th>Arrondissement</th>\n",
       "      <th>Etoiles</th>\n",
       "      <th>perso</th>\n",
       "      <th>equip</th>\n",
       "      <th>prop</th>\n",
       "      <th>conf</th>\n",
       "      <th>rap_qp</th>\n",
       "      <th>situ</th>\n",
       "      <th>wifi</th>\n",
       "    </tr>\n",
       "  </thead>\n",
       "  <tbody>\n",
       "    <tr>\n",
       "      <th>0</th>\n",
       "      <td>Vice Versa</td>\n",
       "      <td>7.9</td>\n",
       "      <td>573</td>\n",
       "      <td>126</td>\n",
       "      <td>15</td>\n",
       "      <td>4</td>\n",
       "      <td>8.1</td>\n",
       "      <td>8.7</td>\n",
       "      <td>8.3</td>\n",
       "      <td>8.1</td>\n",
       "      <td>7.9</td>\n",
       "      <td>7.5</td>\n",
       "      <td>8.8</td>\n",
       "    </tr>\n",
       "    <tr>\n",
       "      <th>1</th>\n",
       "      <td>The ReMIX Hotel</td>\n",
       "      <td>8.4</td>\n",
       "      <td>1116</td>\n",
       "      <td>99</td>\n",
       "      <td>19</td>\n",
       "      <td>4</td>\n",
       "      <td>7.8</td>\n",
       "      <td>8.8</td>\n",
       "      <td>8.8</td>\n",
       "      <td>8.8</td>\n",
       "      <td>8.4</td>\n",
       "      <td>8.3</td>\n",
       "      <td>8.3</td>\n",
       "    </tr>\n",
       "    <tr>\n",
       "      <th>2</th>\n",
       "      <td>TRIBE Paris Batignolles</td>\n",
       "      <td>9.1</td>\n",
       "      <td>176</td>\n",
       "      <td>130</td>\n",
       "      <td>17</td>\n",
       "      <td>5</td>\n",
       "      <td>8.8</td>\n",
       "      <td>9.6</td>\n",
       "      <td>9.4</td>\n",
       "      <td>9.4</td>\n",
       "      <td>9.2</td>\n",
       "      <td>8.8</td>\n",
       "      <td>9.0</td>\n",
       "    </tr>\n",
       "    <tr>\n",
       "      <th>3</th>\n",
       "      <td>Hotel Aida Marais</td>\n",
       "      <td>7.9</td>\n",
       "      <td>1046</td>\n",
       "      <td>141</td>\n",
       "      <td>10</td>\n",
       "      <td>3</td>\n",
       "      <td>8.6</td>\n",
       "      <td>8.7</td>\n",
       "      <td>8.3</td>\n",
       "      <td>7.9</td>\n",
       "      <td>8.1</td>\n",
       "      <td>7.7</td>\n",
       "      <td>7.9</td>\n",
       "    </tr>\n",
       "    <tr>\n",
       "      <th>4</th>\n",
       "      <td>Hôtel Hor Les Lumières</td>\n",
       "      <td>8.6</td>\n",
       "      <td>972</td>\n",
       "      <td>117</td>\n",
       "      <td>11</td>\n",
       "      <td>4</td>\n",
       "      <td>9.4</td>\n",
       "      <td>8.8</td>\n",
       "      <td>9.0</td>\n",
       "      <td>8.3</td>\n",
       "      <td>8.5</td>\n",
       "      <td>8.5</td>\n",
       "      <td>8.5</td>\n",
       "    </tr>\n",
       "  </tbody>\n",
       "</table>\n",
       "</div>"
      ],
      "text/plain": [
       "                    Hôtels  Note moyenne  Nombre de commentaires  Prix  \\\n",
       "0               Vice Versa           7.9                     573   126   \n",
       "1          The ReMIX Hotel           8.4                    1116    99   \n",
       "2  TRIBE Paris Batignolles           9.1                     176   130   \n",
       "3        Hotel Aida Marais           7.9                    1046   141   \n",
       "4   Hôtel Hor Les Lumières           8.6                     972   117   \n",
       "\n",
       "   Arrondissement  Etoiles  perso  equip  prop  conf  rap_qp  situ  wifi  \n",
       "0              15        4    8.1    8.7   8.3   8.1     7.9   7.5   8.8  \n",
       "1              19        4    7.8    8.8   8.8   8.8     8.4   8.3   8.3  \n",
       "2              17        5    8.8    9.6   9.4   9.4     9.2   8.8   9.0  \n",
       "3              10        3    8.6    8.7   8.3   7.9     8.1   7.7   7.9  \n",
       "4              11        4    9.4    8.8   9.0   8.3     8.5   8.5   8.5  "
      ]
     },
     "execution_count": 210,
     "metadata": {},
     "output_type": "execute_result"
    }
   ],
   "source": [
    "df = pd.read_excel('dfhotels_merged.xlsx')\n",
    "df.head()"
   ]
  },
  {
   "cell_type": "code",
   "execution_count": 211,
   "metadata": {},
   "outputs": [
    {
     "data": {
      "text/html": [
       "<div>\n",
       "<style scoped>\n",
       "    .dataframe tbody tr th:only-of-type {\n",
       "        vertical-align: middle;\n",
       "    }\n",
       "\n",
       "    .dataframe tbody tr th {\n",
       "        vertical-align: top;\n",
       "    }\n",
       "\n",
       "    .dataframe thead th {\n",
       "        text-align: right;\n",
       "    }\n",
       "</style>\n",
       "<table border=\"1\" class=\"dataframe\">\n",
       "  <thead>\n",
       "    <tr style=\"text-align: right;\">\n",
       "      <th></th>\n",
       "      <th>Hôtels</th>\n",
       "      <th>Note_moy</th>\n",
       "      <th>Nb_comms</th>\n",
       "      <th>Prix</th>\n",
       "      <th>Arrondissement</th>\n",
       "      <th>Etoiles</th>\n",
       "      <th>perso</th>\n",
       "      <th>equip</th>\n",
       "      <th>prop</th>\n",
       "      <th>conf</th>\n",
       "      <th>rap_qp</th>\n",
       "      <th>situ</th>\n",
       "      <th>wifi</th>\n",
       "    </tr>\n",
       "  </thead>\n",
       "  <tbody>\n",
       "    <tr>\n",
       "      <th>0</th>\n",
       "      <td>Vice Versa</td>\n",
       "      <td>7.9</td>\n",
       "      <td>573</td>\n",
       "      <td>126</td>\n",
       "      <td>15</td>\n",
       "      <td>4</td>\n",
       "      <td>8.1</td>\n",
       "      <td>8.7</td>\n",
       "      <td>8.3</td>\n",
       "      <td>8.1</td>\n",
       "      <td>7.9</td>\n",
       "      <td>7.5</td>\n",
       "      <td>8.8</td>\n",
       "    </tr>\n",
       "    <tr>\n",
       "      <th>1</th>\n",
       "      <td>The ReMIX Hotel</td>\n",
       "      <td>8.4</td>\n",
       "      <td>1116</td>\n",
       "      <td>99</td>\n",
       "      <td>19</td>\n",
       "      <td>4</td>\n",
       "      <td>7.8</td>\n",
       "      <td>8.8</td>\n",
       "      <td>8.8</td>\n",
       "      <td>8.8</td>\n",
       "      <td>8.4</td>\n",
       "      <td>8.3</td>\n",
       "      <td>8.3</td>\n",
       "    </tr>\n",
       "    <tr>\n",
       "      <th>2</th>\n",
       "      <td>TRIBE Paris Batignolles</td>\n",
       "      <td>9.1</td>\n",
       "      <td>176</td>\n",
       "      <td>130</td>\n",
       "      <td>17</td>\n",
       "      <td>5</td>\n",
       "      <td>8.8</td>\n",
       "      <td>9.6</td>\n",
       "      <td>9.4</td>\n",
       "      <td>9.4</td>\n",
       "      <td>9.2</td>\n",
       "      <td>8.8</td>\n",
       "      <td>9.0</td>\n",
       "    </tr>\n",
       "    <tr>\n",
       "      <th>3</th>\n",
       "      <td>Hotel Aida Marais</td>\n",
       "      <td>7.9</td>\n",
       "      <td>1046</td>\n",
       "      <td>141</td>\n",
       "      <td>10</td>\n",
       "      <td>3</td>\n",
       "      <td>8.6</td>\n",
       "      <td>8.7</td>\n",
       "      <td>8.3</td>\n",
       "      <td>7.9</td>\n",
       "      <td>8.1</td>\n",
       "      <td>7.7</td>\n",
       "      <td>7.9</td>\n",
       "    </tr>\n",
       "    <tr>\n",
       "      <th>4</th>\n",
       "      <td>Hôtel Hor Les Lumières</td>\n",
       "      <td>8.6</td>\n",
       "      <td>972</td>\n",
       "      <td>117</td>\n",
       "      <td>11</td>\n",
       "      <td>4</td>\n",
       "      <td>9.4</td>\n",
       "      <td>8.8</td>\n",
       "      <td>9.0</td>\n",
       "      <td>8.3</td>\n",
       "      <td>8.5</td>\n",
       "      <td>8.5</td>\n",
       "      <td>8.5</td>\n",
       "    </tr>\n",
       "  </tbody>\n",
       "</table>\n",
       "</div>"
      ],
      "text/plain": [
       "                    Hôtels  Note_moy  Nb_comms  Prix  Arrondissement  Etoiles  \\\n",
       "0               Vice Versa       7.9       573   126              15        4   \n",
       "1          The ReMIX Hotel       8.4      1116    99              19        4   \n",
       "2  TRIBE Paris Batignolles       9.1       176   130              17        5   \n",
       "3        Hotel Aida Marais       7.9      1046   141              10        3   \n",
       "4   Hôtel Hor Les Lumières       8.6       972   117              11        4   \n",
       "\n",
       "   perso  equip  prop  conf  rap_qp  situ  wifi  \n",
       "0    8.1    8.7   8.3   8.1     7.9   7.5   8.8  \n",
       "1    7.8    8.8   8.8   8.8     8.4   8.3   8.3  \n",
       "2    8.8    9.6   9.4   9.4     9.2   8.8   9.0  \n",
       "3    8.6    8.7   8.3   7.9     8.1   7.7   7.9  \n",
       "4    9.4    8.8   9.0   8.3     8.5   8.5   8.5  "
      ]
     },
     "execution_count": 211,
     "metadata": {},
     "output_type": "execute_result"
    }
   ],
   "source": [
    "df = df.rename(columns={'Nombre de commentaires':'Nb_comms', 'Note moyenne':'Note_moy'})\n",
    "df.head()"
   ]
  },
  {
   "cell_type": "code",
   "execution_count": 212,
   "metadata": {},
   "outputs": [
    {
     "data": {
      "text/plain": [
       "428"
      ]
     },
     "execution_count": 212,
     "metadata": {},
     "output_type": "execute_result"
    }
   ],
   "source": [
    "nb_tot_hotels = len(df)\n",
    "nb_tot_hotels"
   ]
  },
  {
   "cell_type": "markdown",
   "metadata": {},
   "source": [
    "# 3.1. Etude de la représentativité des données scrapées"
   ]
  },
  {
   "cell_type": "markdown",
   "metadata": {},
   "source": [
    "Avant d'affirmer que nos modèles de prédiction des prix des hôtels à Paris sont cohérents avec la réalité, il faut d'abord s'assurer que nos données sont suffisamment représentatives. Pour cela, on peut (par exemple) vérifier que l'on dispose d'une proportion d'hôtels par arrondissement (par rapport à l'ensemble de la base) suffisamment proche des proportions réelles.\n",
    "\n",
    "On cherche donc à créer un graphique montrant la répartition du nombre d'hôtels par arrondissement. On procède en deux temps :\n",
    "\n",
    "1) Création d'une sous-base de données avec le nombre d'hôtels par arrondissement rapporté au nombre total d'hôtels de la base initiale\n",
    "\n",
    "2) Représentation graphique de ce nombre d'hôtels par arrondissement rapporté au nombre total d'hôtels"
   ]
  },
  {
   "cell_type": "code",
   "execution_count": 213,
   "metadata": {},
   "outputs": [
    {
     "data": {
      "text/html": [
       "<div>\n",
       "<style scoped>\n",
       "    .dataframe tbody tr th:only-of-type {\n",
       "        vertical-align: middle;\n",
       "    }\n",
       "\n",
       "    .dataframe tbody tr th {\n",
       "        vertical-align: top;\n",
       "    }\n",
       "\n",
       "    .dataframe thead th {\n",
       "        text-align: right;\n",
       "    }\n",
       "</style>\n",
       "<table border=\"1\" class=\"dataframe\">\n",
       "  <thead>\n",
       "    <tr style=\"text-align: right;\">\n",
       "      <th></th>\n",
       "      <th>Hôtels</th>\n",
       "    </tr>\n",
       "    <tr>\n",
       "      <th>Arrondissement</th>\n",
       "      <th></th>\n",
       "    </tr>\n",
       "  </thead>\n",
       "  <tbody>\n",
       "    <tr>\n",
       "      <th>9</th>\n",
       "      <td>55</td>\n",
       "    </tr>\n",
       "    <tr>\n",
       "      <th>8</th>\n",
       "      <td>47</td>\n",
       "    </tr>\n",
       "    <tr>\n",
       "      <th>17</th>\n",
       "      <td>32</td>\n",
       "    </tr>\n",
       "    <tr>\n",
       "      <th>15</th>\n",
       "      <td>31</td>\n",
       "    </tr>\n",
       "    <tr>\n",
       "      <th>10</th>\n",
       "      <td>29</td>\n",
       "    </tr>\n",
       "  </tbody>\n",
       "</table>\n",
       "</div>"
      ],
      "text/plain": [
       "                Hôtels\n",
       "Arrondissement        \n",
       "9                   55\n",
       "8                   47\n",
       "17                  32\n",
       "15                  31\n",
       "10                  29"
      ]
     },
     "execution_count": 213,
     "metadata": {},
     "output_type": "execute_result"
    }
   ],
   "source": [
    "df[['Arrondissement','Hôtels']].groupby('Arrondissement').count().sort_values(by='Hôtels', ascending=False).head()"
   ]
  },
  {
   "cell_type": "markdown",
   "metadata": {},
   "source": [
    "On constate déjà que ce sont les hôtels des arrondissements 8 et 9 qui sont les plus représentés dans notre base de données. Cette répartition ne semble pas avoir de lien avec la position géographique puisque les arrondissements 8 et 9 sont situés respectivement au centre-nord et au sud de Paris."
   ]
  },
  {
   "cell_type": "code",
   "execution_count": 214,
   "metadata": {},
   "outputs": [
    {
     "data": {
      "text/html": [
       "<div>\n",
       "<style scoped>\n",
       "    .dataframe tbody tr th:only-of-type {\n",
       "        vertical-align: middle;\n",
       "    }\n",
       "\n",
       "    .dataframe tbody tr th {\n",
       "        vertical-align: top;\n",
       "    }\n",
       "\n",
       "    .dataframe thead th {\n",
       "        text-align: right;\n",
       "    }\n",
       "</style>\n",
       "<table border=\"1\" class=\"dataframe\">\n",
       "  <thead>\n",
       "    <tr style=\"text-align: right;\">\n",
       "      <th></th>\n",
       "      <th>Arrondissement</th>\n",
       "      <th>Nb_Hôtels</th>\n",
       "      <th>Proportion empirique</th>\n",
       "    </tr>\n",
       "  </thead>\n",
       "  <tbody>\n",
       "    <tr>\n",
       "      <th>0</th>\n",
       "      <td>1</td>\n",
       "      <td>18</td>\n",
       "      <td>0.042056</td>\n",
       "    </tr>\n",
       "    <tr>\n",
       "      <th>1</th>\n",
       "      <td>2</td>\n",
       "      <td>16</td>\n",
       "      <td>0.037383</td>\n",
       "    </tr>\n",
       "    <tr>\n",
       "      <th>2</th>\n",
       "      <td>3</td>\n",
       "      <td>7</td>\n",
       "      <td>0.016355</td>\n",
       "    </tr>\n",
       "    <tr>\n",
       "      <th>3</th>\n",
       "      <td>4</td>\n",
       "      <td>7</td>\n",
       "      <td>0.016355</td>\n",
       "    </tr>\n",
       "    <tr>\n",
       "      <th>4</th>\n",
       "      <td>5</td>\n",
       "      <td>21</td>\n",
       "      <td>0.049065</td>\n",
       "    </tr>\n",
       "  </tbody>\n",
       "</table>\n",
       "</div>"
      ],
      "text/plain": [
       "   Arrondissement  Nb_Hôtels  Proportion empirique\n",
       "0               1         18              0.042056\n",
       "1               2         16              0.037383\n",
       "2               3          7              0.016355\n",
       "3               4          7              0.016355\n",
       "4               5         21              0.049065"
      ]
     },
     "execution_count": 214,
     "metadata": {},
     "output_type": "execute_result"
    }
   ],
   "source": [
    "nbr_hotel = df[['Arrondissement','Hôtels']].groupby('Arrondissement').count().sort_values(by='Arrondissement', ascending=True)\n",
    "nbr_hotel.reset_index(0, inplace=True)\n",
    "nbr_hotel.rename(columns={'Hôtels':'Nb_Hôtels'}, inplace=True)\n",
    "nbr_hotel['Proportion empirique'] = nbr_hotel['Nb_Hôtels']/nb_tot_hotels\n",
    "nbr_hotel.head()"
   ]
  },
  {
   "cell_type": "markdown",
   "metadata": {},
   "source": [
    "Comparons maintenant ce graphique avec celui qu'on obtient à partir des données officielles (https://fr.statista.com/statistiques/494957/part-hotel-paris-france-arrondissement/). Les données sont reportées ici à la main."
   ]
  },
  {
   "cell_type": "code",
   "execution_count": 215,
   "metadata": {},
   "outputs": [],
   "source": [
    "arr_reel = [i for i in range(1,21)]\n",
    "hot_par_arr_reel = [75,47,30,38,83,105,63,146,184,128,84,78,47,101,103,71,129,77,24,31]"
   ]
  },
  {
   "cell_type": "code",
   "execution_count": 216,
   "metadata": {},
   "outputs": [],
   "source": [
    "nb_tot_reel = sum(hot_par_arr_reel)"
   ]
  },
  {
   "cell_type": "code",
   "execution_count": 217,
   "metadata": {},
   "outputs": [],
   "source": [
    "prop_reelle = [x / nb_tot_reel for x in hot_par_arr_reel]"
   ]
  },
  {
   "cell_type": "code",
   "execution_count": 218,
   "metadata": {},
   "outputs": [
    {
     "data": {
      "text/html": [
       "<div>\n",
       "<style scoped>\n",
       "    .dataframe tbody tr th:only-of-type {\n",
       "        vertical-align: middle;\n",
       "    }\n",
       "\n",
       "    .dataframe tbody tr th {\n",
       "        vertical-align: top;\n",
       "    }\n",
       "\n",
       "    .dataframe thead th {\n",
       "        text-align: right;\n",
       "    }\n",
       "</style>\n",
       "<table border=\"1\" class=\"dataframe\">\n",
       "  <thead>\n",
       "    <tr style=\"text-align: right;\">\n",
       "      <th></th>\n",
       "      <th>Arrondissement</th>\n",
       "      <th>Nb_Hôtels</th>\n",
       "      <th>Proportion empirique</th>\n",
       "      <th>Proportion réelle</th>\n",
       "    </tr>\n",
       "  </thead>\n",
       "  <tbody>\n",
       "    <tr>\n",
       "      <th>0</th>\n",
       "      <td>1</td>\n",
       "      <td>18</td>\n",
       "      <td>0.042056</td>\n",
       "      <td>0.045620</td>\n",
       "    </tr>\n",
       "    <tr>\n",
       "      <th>1</th>\n",
       "      <td>2</td>\n",
       "      <td>16</td>\n",
       "      <td>0.037383</td>\n",
       "      <td>0.028589</td>\n",
       "    </tr>\n",
       "    <tr>\n",
       "      <th>2</th>\n",
       "      <td>3</td>\n",
       "      <td>7</td>\n",
       "      <td>0.016355</td>\n",
       "      <td>0.018248</td>\n",
       "    </tr>\n",
       "    <tr>\n",
       "      <th>3</th>\n",
       "      <td>4</td>\n",
       "      <td>7</td>\n",
       "      <td>0.016355</td>\n",
       "      <td>0.023114</td>\n",
       "    </tr>\n",
       "    <tr>\n",
       "      <th>4</th>\n",
       "      <td>5</td>\n",
       "      <td>21</td>\n",
       "      <td>0.049065</td>\n",
       "      <td>0.050487</td>\n",
       "    </tr>\n",
       "  </tbody>\n",
       "</table>\n",
       "</div>"
      ],
      "text/plain": [
       "   Arrondissement  Nb_Hôtels  Proportion empirique  Proportion réelle\n",
       "0               1         18              0.042056           0.045620\n",
       "1               2         16              0.037383           0.028589\n",
       "2               3          7              0.016355           0.018248\n",
       "3               4          7              0.016355           0.023114\n",
       "4               5         21              0.049065           0.050487"
      ]
     },
     "execution_count": 218,
     "metadata": {},
     "output_type": "execute_result"
    }
   ],
   "source": [
    "nbr_hotel['Proportion réelle'] = prop_reelle\n",
    "nbr_hotel.head()"
   ]
  },
  {
   "cell_type": "markdown",
   "metadata": {},
   "source": [
    "Pour pouvoir afficher l'histogramme avec les deux valeurs (proportion empirique et proportion réelle) pour chaque arrondissement, une méthode consiste à faire un \"unpivot\" de notre dataframe. "
   ]
  },
  {
   "cell_type": "code",
   "execution_count": 219,
   "metadata": {},
   "outputs": [
    {
     "data": {
      "text/html": [
       "<div>\n",
       "<style scoped>\n",
       "    .dataframe tbody tr th:only-of-type {\n",
       "        vertical-align: middle;\n",
       "    }\n",
       "\n",
       "    .dataframe tbody tr th {\n",
       "        vertical-align: top;\n",
       "    }\n",
       "\n",
       "    .dataframe thead th {\n",
       "        text-align: right;\n",
       "    }\n",
       "</style>\n",
       "<table border=\"1\" class=\"dataframe\">\n",
       "  <thead>\n",
       "    <tr style=\"text-align: right;\">\n",
       "      <th></th>\n",
       "      <th>Arrondissement</th>\n",
       "      <th>Type</th>\n",
       "      <th>Proportion</th>\n",
       "    </tr>\n",
       "  </thead>\n",
       "  <tbody>\n",
       "    <tr>\n",
       "      <th>0</th>\n",
       "      <td>1</td>\n",
       "      <td>Proportion empirique</td>\n",
       "      <td>0.042056</td>\n",
       "    </tr>\n",
       "    <tr>\n",
       "      <th>1</th>\n",
       "      <td>2</td>\n",
       "      <td>Proportion empirique</td>\n",
       "      <td>0.037383</td>\n",
       "    </tr>\n",
       "    <tr>\n",
       "      <th>2</th>\n",
       "      <td>3</td>\n",
       "      <td>Proportion empirique</td>\n",
       "      <td>0.016355</td>\n",
       "    </tr>\n",
       "    <tr>\n",
       "      <th>3</th>\n",
       "      <td>4</td>\n",
       "      <td>Proportion empirique</td>\n",
       "      <td>0.016355</td>\n",
       "    </tr>\n",
       "    <tr>\n",
       "      <th>4</th>\n",
       "      <td>5</td>\n",
       "      <td>Proportion empirique</td>\n",
       "      <td>0.049065</td>\n",
       "    </tr>\n",
       "  </tbody>\n",
       "</table>\n",
       "</div>"
      ],
      "text/plain": [
       "   Arrondissement                  Type  Proportion\n",
       "0               1  Proportion empirique    0.042056\n",
       "1               2  Proportion empirique    0.037383\n",
       "2               3  Proportion empirique    0.016355\n",
       "3               4  Proportion empirique    0.016355\n",
       "4               5  Proportion empirique    0.049065"
      ]
     },
     "execution_count": 219,
     "metadata": {},
     "output_type": "execute_result"
    }
   ],
   "source": [
    "nbr_hotel2 = nbr_hotel.copy()\n",
    "del nbr_hotel2['Nb_Hôtels']\n",
    "nbr_hotel2 = nbr_hotel2.melt(id_vars = 'Arrondissement', var_name = 'Type', value_name = 'Proportion')\n",
    "nbr_hotel2.head()"
   ]
  },
  {
   "cell_type": "code",
   "execution_count": 220,
   "metadata": {},
   "outputs": [
    {
     "data": {
      "image/png": "[encoded data removed]",
      "text/plain": [
       "<Figure size 720x432 with 1 Axes>"
      ]
     },
     "metadata": {
      "needs_background": "light"
     },
     "output_type": "display_data"
    }
   ],
   "source": [
    "plt.figure(figsize=(10,6))\n",
    "sns.barplot(x=\"Arrondissement\", y=\"Proportion\", hue=\"Type\", data=nbr_hotel2)\n",
    "plt.xlabel('Arrondissement', fontsize=15)\n",
    "plt.ylabel(\"Proportion d'hôtels par arrondissement\", fontsize=15)\n",
    "plt.title(\"Répartition du nombre d'hôtels selon l'arrondissement \\n\", fontsize=18)\n",
    "plt.xticks(rotation= 45)\n",
    "plt.tight_layout()"
   ]
  },
  {
   "cell_type": "markdown",
   "metadata": {},
   "source": [
    "À première vue, notre échantillon semble représentatif car les proportions empiriques et théoriques sont relativement proches pour chaque arrondissement. Pour être rigoureux, on peut effectuer un test de chi-deux, qui est un test de représentativité d'un échantillon à partir d'une seule variable prenant $k$ modalités (source : \"http://sspsd.u-strasbg.fr/IMG/pdf/Cours_seance_3_et_4.pdf\" ; ici, ces modalités sont les arrondissements). Ce test est construit à partir de la variable suivante, qui peut être interprétée comme une distance entre les effectifs empiriques (les $n_i$) et les effectifs théoriques construits à partir de la taille de l'échantillon (les $n p_i$, où $n$ est la taille de l'échantillon observé et où les $p_i$ désignent les proportions théoriques).\n",
    "\n",
    "$$ \\chi^2 = \\sum_{i=1}^k \\frac{(n_i - n p_i)^2}{n p_i} $$"
   ]
  },
  {
   "cell_type": "code",
   "execution_count": 221,
   "metadata": {},
   "outputs": [
    {
     "data": {
      "text/html": [
       "<div>\n",
       "<style scoped>\n",
       "    .dataframe tbody tr th:only-of-type {\n",
       "        vertical-align: middle;\n",
       "    }\n",
       "\n",
       "    .dataframe tbody tr th {\n",
       "        vertical-align: top;\n",
       "    }\n",
       "\n",
       "    .dataframe thead th {\n",
       "        text-align: right;\n",
       "    }\n",
       "</style>\n",
       "<table border=\"1\" class=\"dataframe\">\n",
       "  <thead>\n",
       "    <tr style=\"text-align: right;\">\n",
       "      <th></th>\n",
       "      <th>Arrondissement</th>\n",
       "      <th>Nb_Hôtels</th>\n",
       "      <th>Proportion empirique</th>\n",
       "      <th>Proportion réelle</th>\n",
       "      <th>Taille de l'échantillon</th>\n",
       "      <th>Effectifs théoriques</th>\n",
       "    </tr>\n",
       "  </thead>\n",
       "  <tbody>\n",
       "    <tr>\n",
       "      <th>0</th>\n",
       "      <td>1</td>\n",
       "      <td>18</td>\n",
       "      <td>0.042056</td>\n",
       "      <td>0.045620</td>\n",
       "      <td>428</td>\n",
       "      <td>19.525547</td>\n",
       "    </tr>\n",
       "    <tr>\n",
       "      <th>1</th>\n",
       "      <td>2</td>\n",
       "      <td>16</td>\n",
       "      <td>0.037383</td>\n",
       "      <td>0.028589</td>\n",
       "      <td>428</td>\n",
       "      <td>12.236010</td>\n",
       "    </tr>\n",
       "    <tr>\n",
       "      <th>2</th>\n",
       "      <td>3</td>\n",
       "      <td>7</td>\n",
       "      <td>0.016355</td>\n",
       "      <td>0.018248</td>\n",
       "      <td>428</td>\n",
       "      <td>7.810219</td>\n",
       "    </tr>\n",
       "    <tr>\n",
       "      <th>3</th>\n",
       "      <td>4</td>\n",
       "      <td>7</td>\n",
       "      <td>0.016355</td>\n",
       "      <td>0.023114</td>\n",
       "      <td>428</td>\n",
       "      <td>9.892944</td>\n",
       "    </tr>\n",
       "    <tr>\n",
       "      <th>4</th>\n",
       "      <td>5</td>\n",
       "      <td>21</td>\n",
       "      <td>0.049065</td>\n",
       "      <td>0.050487</td>\n",
       "      <td>428</td>\n",
       "      <td>21.608273</td>\n",
       "    </tr>\n",
       "  </tbody>\n",
       "</table>\n",
       "</div>"
      ],
      "text/plain": [
       "   Arrondissement  Nb_Hôtels  Proportion empirique  Proportion réelle  \\\n",
       "0               1         18              0.042056           0.045620   \n",
       "1               2         16              0.037383           0.028589   \n",
       "2               3          7              0.016355           0.018248   \n",
       "3               4          7              0.016355           0.023114   \n",
       "4               5         21              0.049065           0.050487   \n",
       "\n",
       "   Taille de l'échantillon  Effectifs théoriques  \n",
       "0                      428             19.525547  \n",
       "1                      428             12.236010  \n",
       "2                      428              7.810219  \n",
       "3                      428              9.892944  \n",
       "4                      428             21.608273  "
      ]
     },
     "execution_count": 221,
     "metadata": {},
     "output_type": "execute_result"
    }
   ],
   "source": [
    "nbr_hotel[\"Taille de l'échantillon\"] = nb_tot_hotels\n",
    "nbr_hotel[\"Effectifs théoriques\"] = nbr_hotel[\"Taille de l'échantillon\"]*nbr_hotel[\"Proportion réelle\"]\n",
    "nbr_hotel.head()"
   ]
  },
  {
   "cell_type": "markdown",
   "metadata": {},
   "source": [
    "On calcule désormais la statistique de test selon la formule donnée ci-dessus."
   ]
  },
  {
   "cell_type": "code",
   "execution_count": 222,
   "metadata": {},
   "outputs": [
    {
     "data": {
      "text/plain": [
       "13.64425137489156"
      ]
     },
     "execution_count": 222,
     "metadata": {},
     "output_type": "execute_result"
    }
   ],
   "source": [
    "sum([(nbr_hotel['Nb_Hôtels'][arr] - nbr_hotel[\"Effectifs théoriques\"][arr])**2 / nbr_hotel[\"Effectifs théoriques\"][arr] for arr in range(len(nbr_hotel))])  "
   ]
  },
  {
   "cell_type": "markdown",
   "metadata": {},
   "source": [
    "Cette valeur obtenue n'est pas satisfaisante. En effet, elle est au-delà de la valeur (10,117) qui aurait pu nous garantir avec un risque de première espèce de 5% que nos données sont représentatives. Ici, on peut seulement l'affirmer avec un risque de première espèce de 20% (ce qui est considérable). On décide malgré tout de conserver notre jeu de données.\n",
    "\n",
    "(lien vers la table : https://www.soft-concept.com/surveymag/images/posts/lexique-etudes-marketing-table-du-khi2.jpg)"
   ]
  },
  {
   "cell_type": "markdown",
   "metadata": {},
   "source": [
    "# 3.2. Analyse descriptive du jeu de données"
   ]
  },
  {
   "cell_type": "markdown",
   "metadata": {},
   "source": [
    "## 3.2.1. Analyse du nombre d'étoiles des hôtels"
   ]
  },
  {
   "cell_type": "code",
   "execution_count": 223,
   "metadata": {},
   "outputs": [
    {
     "data": {
      "image/png": "[encoded data removed]",
      "text/plain": [
       "<Figure size 360x360 with 1 Axes>"
      ]
     },
     "metadata": {},
     "output_type": "display_data"
    }
   ],
   "source": [
    "nbr_Etoil= df[\"Etoiles\"].value_counts()\n",
    "plt.rcParams[\"figure.figsize\"]=[5,5]\n",
    "plt.pie(nbr_Etoil.values, labels=nbr_Etoil.index, autopct='%1.1f%%',shadow=True, startangle=90)\n",
    "plt.draw()"
   ]
  },
  {
   "cell_type": "markdown",
   "metadata": {},
   "source": [
    "On peut constater que les hôtels 4 étoiles et 3 étoiles sont les plus représentés dans notre jeu de données, en surnombre avec des proportions respectives de 41,4 % et 36,9%. "
   ]
  },
  {
   "cell_type": "markdown",
   "metadata": {},
   "source": [
    "## 3.2.2. Les facteurs d'influence des prix des hôtels"
   ]
  },
  {
   "cell_type": "code",
   "execution_count": 224,
   "metadata": {},
   "outputs": [
    {
     "data": {
      "text/plain": [
       "count    428.000000\n",
       "mean     163.754673\n",
       "std       61.107753\n",
       "min       72.000000\n",
       "25%      119.750000\n",
       "50%      149.500000\n",
       "75%      204.250000\n",
       "max      523.000000\n",
       "Name: Prix, dtype: float64"
      ]
     },
     "execution_count": 224,
     "metadata": {},
     "output_type": "execute_result"
    }
   ],
   "source": [
    "df[\"Prix\"].describe()"
   ]
  },
  {
   "cell_type": "markdown",
   "metadata": {},
   "source": [
    "On constate que les prix de réservation varient entre 72 et 523 euros. Il existe un \"noyau dur\" d'hôtels pour lesquels le prix de réservation varie entre 120 et 204 euros. La valeur de l'écart-type nous suggère une forte dispersion des prix entre les hôtels.\n",
    "\n",
    "On décide de représenter la dispersion des prix grâce à une boîte à moustaches."
   ]
  },
  {
   "cell_type": "code",
   "execution_count": 225,
   "metadata": {
    "scrolled": true
   },
   "outputs": [
    {
     "data": {
      "image/png": "[encoded data removed]",
      "text/plain": [
       "<Figure size 360x360 with 1 Axes>"
      ]
     },
     "metadata": {
      "needs_background": "light"
     },
     "output_type": "display_data"
    }
   ],
   "source": [
    "sns.boxplot(data = df\n",
    "            ,y = 'Prix'\n",
    "            ,color = 'cyan'\n",
    "            )\n",
    "plt.rcParams[\"figure.figsize\"]=[2,2]"
   ]
  },
  {
   "cell_type": "markdown",
   "metadata": {},
   "source": [
    "En observant le graphique ci-dessus, nous pouvons voir que la distribution du prix des hôtels n'est pas homogène. Cela s'observe notamment par le fait que la médiane n'est pas centrée dans la boite, et par le fait que les valeurs extrêmes sont assez éloignées de la boîte.\n",
    "\n",
    "\n",
    "Nous affinons cette analyse en étudiant la dispersion des prix selon le nombre d'étoiles des hôtels."
   ]
  },
  {
   "cell_type": "markdown",
   "metadata": {},
   "source": [
    "#### Le nombre d'étoiles, facteur de dispersion des prix"
   ]
  },
  {
   "cell_type": "code",
   "execution_count": 226,
   "metadata": {
    "scrolled": true
   },
   "outputs": [
    {
     "data": {
      "image/png": "[encoded data removed]",
      "text/plain": [
       "<Figure size 144x144 with 1 Axes>"
      ]
     },
     "metadata": {
      "needs_background": "light"
     },
     "output_type": "display_data"
    }
   ],
   "source": [
    "sns.boxplot(data = df\n",
    "            ,y= 'Prix'\n",
    "            ,x='Etoiles'\n",
    "            ,color = 'cyan'\n",
    "            )\n",
    "plt.rcParams[\"figure.figsize\"]=[5,5]"
   ]
  },
  {
   "cell_type": "markdown",
   "metadata": {},
   "source": [
    "Comme on pouvait s'y attendre, le nombre d'étoiles influe sur la dispersion des prix des hôtels. Ainsi, les hôtels à 1 étoile ont des prix concentrés autour de 100 euros, alors que les hôtels à 4 et 5 étoiles voient leurs prix fluctuer entre 75 et 500 euros. "
   ]
  },
  {
   "cell_type": "markdown",
   "metadata": {},
   "source": [
    "#### Etude des prix moyens selon les arrondissements"
   ]
  },
  {
   "cell_type": "markdown",
   "metadata": {},
   "source": [
    "On s'intéresse désormais au lien existant entre les prix et l'arrondissement. Certains arrondissements possèdent en effet des caractéristiques propres (tels que la sécurité ou la richesse, que l'on étudiera juste après), qui peuvent influer sur les prix."
   ]
  },
  {
   "cell_type": "code",
   "execution_count": 227,
   "metadata": {
    "scrolled": true
   },
   "outputs": [
    {
     "data": {
      "text/html": [
       "<div>\n",
       "<style scoped>\n",
       "    .dataframe tbody tr th:only-of-type {\n",
       "        vertical-align: middle;\n",
       "    }\n",
       "\n",
       "    .dataframe tbody tr th {\n",
       "        vertical-align: top;\n",
       "    }\n",
       "\n",
       "    .dataframe thead th {\n",
       "        text-align: right;\n",
       "    }\n",
       "</style>\n",
       "<table border=\"1\" class=\"dataframe\">\n",
       "  <thead>\n",
       "    <tr style=\"text-align: right;\">\n",
       "      <th></th>\n",
       "      <th>Arrondissement</th>\n",
       "      <th>Prix_Moyen</th>\n",
       "    </tr>\n",
       "  </thead>\n",
       "  <tbody>\n",
       "    <tr>\n",
       "      <th>0</th>\n",
       "      <td>1</td>\n",
       "      <td>226.666667</td>\n",
       "    </tr>\n",
       "    <tr>\n",
       "      <th>1</th>\n",
       "      <td>2</td>\n",
       "      <td>209.625000</td>\n",
       "    </tr>\n",
       "    <tr>\n",
       "      <th>2</th>\n",
       "      <td>7</td>\n",
       "      <td>200.875000</td>\n",
       "    </tr>\n",
       "    <tr>\n",
       "      <th>3</th>\n",
       "      <td>6</td>\n",
       "      <td>189.739130</td>\n",
       "    </tr>\n",
       "    <tr>\n",
       "      <th>4</th>\n",
       "      <td>4</td>\n",
       "      <td>189.571429</td>\n",
       "    </tr>\n",
       "    <tr>\n",
       "      <th>5</th>\n",
       "      <td>8</td>\n",
       "      <td>189.000000</td>\n",
       "    </tr>\n",
       "    <tr>\n",
       "      <th>6</th>\n",
       "      <td>16</td>\n",
       "      <td>184.789474</td>\n",
       "    </tr>\n",
       "    <tr>\n",
       "      <th>7</th>\n",
       "      <td>9</td>\n",
       "      <td>167.800000</td>\n",
       "    </tr>\n",
       "    <tr>\n",
       "      <th>8</th>\n",
       "      <td>5</td>\n",
       "      <td>159.380952</td>\n",
       "    </tr>\n",
       "    <tr>\n",
       "      <th>9</th>\n",
       "      <td>17</td>\n",
       "      <td>159.062500</td>\n",
       "    </tr>\n",
       "  </tbody>\n",
       "</table>\n",
       "</div>"
      ],
      "text/plain": [
       "   Arrondissement  Prix_Moyen\n",
       "0               1  226.666667\n",
       "1               2  209.625000\n",
       "2               7  200.875000\n",
       "3               6  189.739130\n",
       "4               4  189.571429\n",
       "5               8  189.000000\n",
       "6              16  184.789474\n",
       "7               9  167.800000\n",
       "8               5  159.380952\n",
       "9              17  159.062500"
      ]
     },
     "execution_count": 227,
     "metadata": {},
     "output_type": "execute_result"
    }
   ],
   "source": [
    "Arr_prix= df[['Arrondissement','Prix']].groupby('Arrondissement').mean().sort_values(by='Prix', ascending= False)\n",
    "Arr_prix.reset_index(0, inplace=True)\n",
    "Arr_prix.rename(columns={'Prix':'Prix_Moyen'}, inplace=True)\n",
    "Arr_prix.head(10)"
   ]
  },
  {
   "cell_type": "code",
   "execution_count": 228,
   "metadata": {
    "scrolled": false
   },
   "outputs": [
    {
     "data": {
      "image/png": "[encoded data removed]",
      "text/plain": [
       "<Figure size 720x432 with 1 Axes>"
      ]
     },
     "metadata": {
      "needs_background": "light"
     },
     "output_type": "display_data"
    }
   ],
   "source": [
    "plt.figure(figsize=(10,6))\n",
    "sns.barplot(x=Arr_prix['Arrondissement'], y=Arr_prix['Prix_Moyen'])\n",
    "plt.xlabel('Arrondissement', fontsize=15, color='#c0392b')\n",
    "plt.ylabel(\"Prix moyen\", fontsize=15, color='#c0392b')\n",
    "plt.title(\"Prix moyen des hôtels selon l'arrondissement\", fontsize=18, color='#e74c3c')\n",
    "plt.xticks(rotation= 45)\n",
    "plt.tight_layout()"
   ]
  },
  {
   "cell_type": "markdown",
   "metadata": {},
   "source": [
    "Par observation du graphique, on remarque que les prix moyens des chambres varient selon l'arrondissement. Les prix moyens les plus élévés sont observés dans le 1er et le 7ème arrondissements qui apparaissent comme des arrondissements riches selon le classement par impôt moyen de 2010 (https://www.journaldunet.com/economie/magazine/1097263-les-riches-a-paris-arrondissement-par-arrondissement/1097285-classement)\". Cela nous incite à nous intéresser plus en détails à la relation entre la richesse d'un arrondissement et le prix des hôtels (on étudiera cette relation plus tard). "
   ]
  },
  {
   "cell_type": "markdown",
   "metadata": {},
   "source": [
    "## 3.2.3. Analyse des notes sur les caractéristiques des chambres"
   ]
  },
  {
   "cell_type": "markdown",
   "metadata": {},
   "source": [
    "Les notes données par les clients portaient sur 7 caractéristiques : la qualité du personnel, l'équipement, la propreté, le confort, le rapport qualité/prix, la situation géographique et la qualité du réseau Wi-Fi. Le site Booking.com nous fournit également la note moyenne, qui constitue une première base d'analyse.\n",
    "\n",
    "Ces notes attribuées entre 0 et 10 expriment la satisfaction des usagers. Selon l'échelle de Likert (https://www.appvizer.fr/magazine/marketing/sondages-et-questionnaires/comment-choisir-echelle-d-attitude-questionnaire-de-satisfaction#id3), ces notes peuvent être interprétées de la façon suivante :\n",
    "\n",
    "- 9-10 : Très satisfait\n",
    "- 7-8 : Satisfait\n",
    "- 5-6 : Ni satisfait, ni insatisfait\n",
    "- 2-4 : Peu satisfait\n",
    "- 0-1 : Pas du tout satisfait."
   ]
  },
  {
   "cell_type": "markdown",
   "metadata": {},
   "source": [
    "#### Moyenne générale"
   ]
  },
  {
   "cell_type": "code",
   "execution_count": 229,
   "metadata": {},
   "outputs": [
    {
     "data": {
      "text/html": [
       "<div>\n",
       "<style scoped>\n",
       "    .dataframe tbody tr th:only-of-type {\n",
       "        vertical-align: middle;\n",
       "    }\n",
       "\n",
       "    .dataframe tbody tr th {\n",
       "        vertical-align: top;\n",
       "    }\n",
       "\n",
       "    .dataframe thead th {\n",
       "        text-align: right;\n",
       "    }\n",
       "</style>\n",
       "<table border=\"1\" class=\"dataframe\">\n",
       "  <thead>\n",
       "    <tr style=\"text-align: right;\">\n",
       "      <th></th>\n",
       "      <th>Note_moy</th>\n",
       "    </tr>\n",
       "  </thead>\n",
       "  <tbody>\n",
       "    <tr>\n",
       "      <th>count</th>\n",
       "      <td>428.000000</td>\n",
       "    </tr>\n",
       "    <tr>\n",
       "      <th>mean</th>\n",
       "      <td>8.257243</td>\n",
       "    </tr>\n",
       "    <tr>\n",
       "      <th>std</th>\n",
       "      <td>0.500322</td>\n",
       "    </tr>\n",
       "    <tr>\n",
       "      <th>min</th>\n",
       "      <td>6.800000</td>\n",
       "    </tr>\n",
       "    <tr>\n",
       "      <th>25%</th>\n",
       "      <td>7.900000</td>\n",
       "    </tr>\n",
       "    <tr>\n",
       "      <th>50%</th>\n",
       "      <td>8.300000</td>\n",
       "    </tr>\n",
       "    <tr>\n",
       "      <th>75%</th>\n",
       "      <td>8.600000</td>\n",
       "    </tr>\n",
       "    <tr>\n",
       "      <th>max</th>\n",
       "      <td>9.600000</td>\n",
       "    </tr>\n",
       "  </tbody>\n",
       "</table>\n",
       "</div>"
      ],
      "text/plain": [
       "         Note_moy\n",
       "count  428.000000\n",
       "mean     8.257243\n",
       "std      0.500322\n",
       "min      6.800000\n",
       "25%      7.900000\n",
       "50%      8.300000\n",
       "75%      8.600000\n",
       "max      9.600000"
      ]
     },
     "execution_count": 229,
     "metadata": {},
     "output_type": "execute_result"
    }
   ],
   "source": [
    "df[['Note_moy']].describe()"
   ]
  },
  {
   "cell_type": "markdown",
   "metadata": {},
   "source": [
    "On constate que les notes moyennes vont de 6,8 à 9,6 sur 10 avec une note moyenne de 8.25. La valeur de l'écart-type semble nous indiquer une faible dispersion de ces notes."
   ]
  },
  {
   "cell_type": "markdown",
   "metadata": {},
   "source": [
    "#### Analyse de la note des autres commodités du logement"
   ]
  },
  {
   "cell_type": "markdown",
   "metadata": {},
   "source": [
    "Approfondissons cette analyse en étudiant les notes pour chaque critère."
   ]
  },
  {
   "cell_type": "code",
   "execution_count": 230,
   "metadata": {
    "scrolled": true
   },
   "outputs": [
    {
     "data": {
      "text/html": [
       "<div>\n",
       "<style scoped>\n",
       "    .dataframe tbody tr th:only-of-type {\n",
       "        vertical-align: middle;\n",
       "    }\n",
       "\n",
       "    .dataframe tbody tr th {\n",
       "        vertical-align: top;\n",
       "    }\n",
       "\n",
       "    .dataframe thead th {\n",
       "        text-align: right;\n",
       "    }\n",
       "</style>\n",
       "<table border=\"1\" class=\"dataframe\">\n",
       "  <thead>\n",
       "    <tr style=\"text-align: right;\">\n",
       "      <th></th>\n",
       "      <th>perso</th>\n",
       "      <th>equip</th>\n",
       "      <th>prop</th>\n",
       "      <th>conf</th>\n",
       "      <th>rap_qp</th>\n",
       "      <th>situ</th>\n",
       "      <th>wifi</th>\n",
       "    </tr>\n",
       "  </thead>\n",
       "  <tbody>\n",
       "    <tr>\n",
       "      <th>count</th>\n",
       "      <td>428.000000</td>\n",
       "      <td>428.000000</td>\n",
       "      <td>428.000000</td>\n",
       "      <td>428.000000</td>\n",
       "      <td>428.000000</td>\n",
       "      <td>428.000000</td>\n",
       "      <td>428.00000</td>\n",
       "    </tr>\n",
       "    <tr>\n",
       "      <th>mean</th>\n",
       "      <td>8.895093</td>\n",
       "      <td>8.958178</td>\n",
       "      <td>8.594159</td>\n",
       "      <td>8.250234</td>\n",
       "      <td>8.229439</td>\n",
       "      <td>7.950234</td>\n",
       "      <td>8.34486</td>\n",
       "    </tr>\n",
       "    <tr>\n",
       "      <th>std</th>\n",
       "      <td>0.500631</td>\n",
       "      <td>0.511876</td>\n",
       "      <td>0.549122</td>\n",
       "      <td>0.608353</td>\n",
       "      <td>0.546115</td>\n",
       "      <td>0.566327</td>\n",
       "      <td>0.63890</td>\n",
       "    </tr>\n",
       "    <tr>\n",
       "      <th>min</th>\n",
       "      <td>6.400000</td>\n",
       "      <td>6.300000</td>\n",
       "      <td>6.700000</td>\n",
       "      <td>6.500000</td>\n",
       "      <td>6.700000</td>\n",
       "      <td>6.200000</td>\n",
       "      <td>6.10000</td>\n",
       "    </tr>\n",
       "    <tr>\n",
       "      <th>25%</th>\n",
       "      <td>8.600000</td>\n",
       "      <td>8.700000</td>\n",
       "      <td>8.300000</td>\n",
       "      <td>7.800000</td>\n",
       "      <td>7.900000</td>\n",
       "      <td>7.600000</td>\n",
       "      <td>7.97500</td>\n",
       "    </tr>\n",
       "    <tr>\n",
       "      <th>50%</th>\n",
       "      <td>9.000000</td>\n",
       "      <td>9.000000</td>\n",
       "      <td>8.650000</td>\n",
       "      <td>8.300000</td>\n",
       "      <td>8.300000</td>\n",
       "      <td>8.000000</td>\n",
       "      <td>8.40000</td>\n",
       "    </tr>\n",
       "    <tr>\n",
       "      <th>75%</th>\n",
       "      <td>9.300000</td>\n",
       "      <td>9.300000</td>\n",
       "      <td>9.000000</td>\n",
       "      <td>8.700000</td>\n",
       "      <td>8.600000</td>\n",
       "      <td>8.300000</td>\n",
       "      <td>8.80000</td>\n",
       "    </tr>\n",
       "    <tr>\n",
       "      <th>max</th>\n",
       "      <td>9.900000</td>\n",
       "      <td>9.800000</td>\n",
       "      <td>9.700000</td>\n",
       "      <td>9.600000</td>\n",
       "      <td>9.400000</td>\n",
       "      <td>9.500000</td>\n",
       "      <td>10.00000</td>\n",
       "    </tr>\n",
       "  </tbody>\n",
       "</table>\n",
       "</div>"
      ],
      "text/plain": [
       "            perso       equip        prop        conf      rap_qp        situ  \\\n",
       "count  428.000000  428.000000  428.000000  428.000000  428.000000  428.000000   \n",
       "mean     8.895093    8.958178    8.594159    8.250234    8.229439    7.950234   \n",
       "std      0.500631    0.511876    0.549122    0.608353    0.546115    0.566327   \n",
       "min      6.400000    6.300000    6.700000    6.500000    6.700000    6.200000   \n",
       "25%      8.600000    8.700000    8.300000    7.800000    7.900000    7.600000   \n",
       "50%      9.000000    9.000000    8.650000    8.300000    8.300000    8.000000   \n",
       "75%      9.300000    9.300000    9.000000    8.700000    8.600000    8.300000   \n",
       "max      9.900000    9.800000    9.700000    9.600000    9.400000    9.500000   \n",
       "\n",
       "            wifi  \n",
       "count  428.00000  \n",
       "mean     8.34486  \n",
       "std      0.63890  \n",
       "min      6.10000  \n",
       "25%      7.97500  \n",
       "50%      8.40000  \n",
       "75%      8.80000  \n",
       "max     10.00000  "
      ]
     },
     "execution_count": 230,
     "metadata": {},
     "output_type": "execute_result"
    }
   ],
   "source": [
    "df[['perso','equip','prop','conf','rap_qp','situ','wifi']].describe()"
   ]
  },
  {
   "cell_type": "markdown",
   "metadata": {},
   "source": [
    "Le tableau ci-dessus montre que 75% des hôtels ont une moyenne satisfaisante en ce qui concerne l'ensemble des commodités (par observation du premier quartile). On note de plus que les usagers sont en majorité très satisfaits par le service du personnel et l'équipement des chambres (la moitié des hôtels ont obtenu une note d'au moins 9 pour ces deux caractéristiques). "
   ]
  },
  {
   "cell_type": "markdown",
   "metadata": {},
   "source": [
    "# 3.3. Création d'un modèle de régression"
   ]
  },
  {
   "cell_type": "markdown",
   "metadata": {},
   "source": [
    "## 3.3.1. Création d'une variable binaire sur la \"richesse\" et la sûreté d'un arrondissement"
   ]
  },
  {
   "cell_type": "markdown",
   "metadata": {},
   "source": [
    "Les numéros d'arrondissement constituant une variable catégorielle (difficilement exploitable pour une régression), on décide de nous en servir pour connaître quelques caractéristiques supplémentaires sur l'emplacement des hôtels, qui peuvent éventuellement influencer leur prix. On voudrait notamment savoir si l'arrondissement dans lequel est situé un hôtel est réputé \"riche\" ou \"pauvre\". \n",
    "\n",
    "Pour cela, on se fie à l'indicateur du nombre d'imposés à l'ISF par arrondissement en 2010 donné par la Direction Générale des Finances Publiques (https://www.journaldunet.com/economie/magazine/1097263-les-riches-a-paris-arrondissement-par-arrondissement/1097285-classement). On décide de considérer comme \"riche\" un arrondissement dans lequel l'impôt moyen est supérieur à 8 000 € (sur l'année).\n",
    "\n",
    "On créé donc une variable binaire \"Riche\" valant 1 si l'arrondissement de l'hôtel appartient à la liste des arrondissements réputés \"riches\" et 0 sinon."
   ]
  },
  {
   "cell_type": "code",
   "execution_count": 231,
   "metadata": {},
   "outputs": [
    {
     "data": {
      "text/html": [
       "<div>\n",
       "<style scoped>\n",
       "    .dataframe tbody tr th:only-of-type {\n",
       "        vertical-align: middle;\n",
       "    }\n",
       "\n",
       "    .dataframe tbody tr th {\n",
       "        vertical-align: top;\n",
       "    }\n",
       "\n",
       "    .dataframe thead th {\n",
       "        text-align: right;\n",
       "    }\n",
       "</style>\n",
       "<table border=\"1\" class=\"dataframe\">\n",
       "  <thead>\n",
       "    <tr style=\"text-align: right;\">\n",
       "      <th></th>\n",
       "      <th>Hôtels</th>\n",
       "      <th>Note_moy</th>\n",
       "      <th>Nb_comms</th>\n",
       "      <th>Prix</th>\n",
       "      <th>Arrondissement</th>\n",
       "      <th>Etoiles</th>\n",
       "      <th>perso</th>\n",
       "      <th>equip</th>\n",
       "      <th>prop</th>\n",
       "      <th>conf</th>\n",
       "      <th>rap_qp</th>\n",
       "      <th>situ</th>\n",
       "      <th>wifi</th>\n",
       "      <th>Riche</th>\n",
       "    </tr>\n",
       "  </thead>\n",
       "  <tbody>\n",
       "    <tr>\n",
       "      <th>0</th>\n",
       "      <td>Vice Versa</td>\n",
       "      <td>7.9</td>\n",
       "      <td>573</td>\n",
       "      <td>126</td>\n",
       "      <td>15</td>\n",
       "      <td>4</td>\n",
       "      <td>8.1</td>\n",
       "      <td>8.7</td>\n",
       "      <td>8.3</td>\n",
       "      <td>8.1</td>\n",
       "      <td>7.9</td>\n",
       "      <td>7.5</td>\n",
       "      <td>8.8</td>\n",
       "      <td>0</td>\n",
       "    </tr>\n",
       "    <tr>\n",
       "      <th>1</th>\n",
       "      <td>The ReMIX Hotel</td>\n",
       "      <td>8.4</td>\n",
       "      <td>1116</td>\n",
       "      <td>99</td>\n",
       "      <td>19</td>\n",
       "      <td>4</td>\n",
       "      <td>7.8</td>\n",
       "      <td>8.8</td>\n",
       "      <td>8.8</td>\n",
       "      <td>8.8</td>\n",
       "      <td>8.4</td>\n",
       "      <td>8.3</td>\n",
       "      <td>8.3</td>\n",
       "      <td>0</td>\n",
       "    </tr>\n",
       "    <tr>\n",
       "      <th>2</th>\n",
       "      <td>TRIBE Paris Batignolles</td>\n",
       "      <td>9.1</td>\n",
       "      <td>176</td>\n",
       "      <td>130</td>\n",
       "      <td>17</td>\n",
       "      <td>5</td>\n",
       "      <td>8.8</td>\n",
       "      <td>9.6</td>\n",
       "      <td>9.4</td>\n",
       "      <td>9.4</td>\n",
       "      <td>9.2</td>\n",
       "      <td>8.8</td>\n",
       "      <td>9.0</td>\n",
       "      <td>1</td>\n",
       "    </tr>\n",
       "    <tr>\n",
       "      <th>3</th>\n",
       "      <td>Hotel Aida Marais</td>\n",
       "      <td>7.9</td>\n",
       "      <td>1046</td>\n",
       "      <td>141</td>\n",
       "      <td>10</td>\n",
       "      <td>3</td>\n",
       "      <td>8.6</td>\n",
       "      <td>8.7</td>\n",
       "      <td>8.3</td>\n",
       "      <td>7.9</td>\n",
       "      <td>8.1</td>\n",
       "      <td>7.7</td>\n",
       "      <td>7.9</td>\n",
       "      <td>0</td>\n",
       "    </tr>\n",
       "    <tr>\n",
       "      <th>4</th>\n",
       "      <td>Hôtel Hor Les Lumières</td>\n",
       "      <td>8.6</td>\n",
       "      <td>972</td>\n",
       "      <td>117</td>\n",
       "      <td>11</td>\n",
       "      <td>4</td>\n",
       "      <td>9.4</td>\n",
       "      <td>8.8</td>\n",
       "      <td>9.0</td>\n",
       "      <td>8.3</td>\n",
       "      <td>8.5</td>\n",
       "      <td>8.5</td>\n",
       "      <td>8.5</td>\n",
       "      <td>0</td>\n",
       "    </tr>\n",
       "  </tbody>\n",
       "</table>\n",
       "</div>"
      ],
      "text/plain": [
       "                    Hôtels  Note_moy  Nb_comms  Prix  Arrondissement  Etoiles  \\\n",
       "0               Vice Versa       7.9       573   126              15        4   \n",
       "1          The ReMIX Hotel       8.4      1116    99              19        4   \n",
       "2  TRIBE Paris Batignolles       9.1       176   130              17        5   \n",
       "3        Hotel Aida Marais       7.9      1046   141              10        3   \n",
       "4   Hôtel Hor Les Lumières       8.6       972   117              11        4   \n",
       "\n",
       "   perso  equip  prop  conf  rap_qp  situ  wifi  Riche  \n",
       "0    8.1    8.7   8.3   8.1     7.9   7.5   8.8      0  \n",
       "1    7.8    8.8   8.8   8.8     8.4   8.3   8.3      0  \n",
       "2    8.8    9.6   9.4   9.4     9.2   8.8   9.0      1  \n",
       "3    8.6    8.7   8.3   7.9     8.1   7.7   7.9      0  \n",
       "4    9.4    8.8   9.0   8.3     8.5   8.5   8.5      0  "
      ]
     },
     "execution_count": 231,
     "metadata": {},
     "output_type": "execute_result"
    }
   ],
   "source": [
    "df['Riche'] = [1 if arr in [16,17,7,6,8,4,1] else 0 for arr in df['Arrondissement']]\n",
    "df.head()"
   ]
  },
  {
   "cell_type": "markdown",
   "metadata": {},
   "source": [
    "On peut également créer une variable \"Sécurité\" valant 1 si l'arrondissement est réputé pour être sûr et 0 sinon. Pour cela, on décide d'utiliser une enquête du Parisien (https://www.leparisien.fr/info-paris-ile-de-france-oise/bien-vivre-en-ile-de-france-notre-palmares-a-paris-22-09-2017-7278876.php) en indiquant la sécurité comme seul critère de bien-être (on aurait pu en inclure d'autres, mais nous disposons déjà de notes pour la plupart des autres critères). On décide de considérer comme \"sûr\" un arrondissement dans lequel le score sur le critère \"Sécurité\" est supérieur à 80/100."
   ]
  },
  {
   "cell_type": "code",
   "execution_count": 232,
   "metadata": {},
   "outputs": [
    {
     "data": {
      "text/html": [
       "<div>\n",
       "<style scoped>\n",
       "    .dataframe tbody tr th:only-of-type {\n",
       "        vertical-align: middle;\n",
       "    }\n",
       "\n",
       "    .dataframe tbody tr th {\n",
       "        vertical-align: top;\n",
       "    }\n",
       "\n",
       "    .dataframe thead th {\n",
       "        text-align: right;\n",
       "    }\n",
       "</style>\n",
       "<table border=\"1\" class=\"dataframe\">\n",
       "  <thead>\n",
       "    <tr style=\"text-align: right;\">\n",
       "      <th></th>\n",
       "      <th>Hôtels</th>\n",
       "      <th>Note_moy</th>\n",
       "      <th>Nb_comms</th>\n",
       "      <th>Prix</th>\n",
       "      <th>Arrondissement</th>\n",
       "      <th>Etoiles</th>\n",
       "      <th>perso</th>\n",
       "      <th>equip</th>\n",
       "      <th>prop</th>\n",
       "      <th>conf</th>\n",
       "      <th>rap_qp</th>\n",
       "      <th>situ</th>\n",
       "      <th>wifi</th>\n",
       "      <th>Riche</th>\n",
       "      <th>Sûr</th>\n",
       "    </tr>\n",
       "  </thead>\n",
       "  <tbody>\n",
       "    <tr>\n",
       "      <th>0</th>\n",
       "      <td>Vice Versa</td>\n",
       "      <td>7.9</td>\n",
       "      <td>573</td>\n",
       "      <td>126</td>\n",
       "      <td>15</td>\n",
       "      <td>4</td>\n",
       "      <td>8.1</td>\n",
       "      <td>8.7</td>\n",
       "      <td>8.3</td>\n",
       "      <td>8.1</td>\n",
       "      <td>7.9</td>\n",
       "      <td>7.5</td>\n",
       "      <td>8.8</td>\n",
       "      <td>0</td>\n",
       "      <td>1</td>\n",
       "    </tr>\n",
       "    <tr>\n",
       "      <th>1</th>\n",
       "      <td>The ReMIX Hotel</td>\n",
       "      <td>8.4</td>\n",
       "      <td>1116</td>\n",
       "      <td>99</td>\n",
       "      <td>19</td>\n",
       "      <td>4</td>\n",
       "      <td>7.8</td>\n",
       "      <td>8.8</td>\n",
       "      <td>8.8</td>\n",
       "      <td>8.8</td>\n",
       "      <td>8.4</td>\n",
       "      <td>8.3</td>\n",
       "      <td>8.3</td>\n",
       "      <td>0</td>\n",
       "      <td>0</td>\n",
       "    </tr>\n",
       "    <tr>\n",
       "      <th>2</th>\n",
       "      <td>TRIBE Paris Batignolles</td>\n",
       "      <td>9.1</td>\n",
       "      <td>176</td>\n",
       "      <td>130</td>\n",
       "      <td>17</td>\n",
       "      <td>5</td>\n",
       "      <td>8.8</td>\n",
       "      <td>9.6</td>\n",
       "      <td>9.4</td>\n",
       "      <td>9.4</td>\n",
       "      <td>9.2</td>\n",
       "      <td>8.8</td>\n",
       "      <td>9.0</td>\n",
       "      <td>1</td>\n",
       "      <td>0</td>\n",
       "    </tr>\n",
       "    <tr>\n",
       "      <th>3</th>\n",
       "      <td>Hotel Aida Marais</td>\n",
       "      <td>7.9</td>\n",
       "      <td>1046</td>\n",
       "      <td>141</td>\n",
       "      <td>10</td>\n",
       "      <td>3</td>\n",
       "      <td>8.6</td>\n",
       "      <td>8.7</td>\n",
       "      <td>8.3</td>\n",
       "      <td>7.9</td>\n",
       "      <td>8.1</td>\n",
       "      <td>7.7</td>\n",
       "      <td>7.9</td>\n",
       "      <td>0</td>\n",
       "      <td>0</td>\n",
       "    </tr>\n",
       "    <tr>\n",
       "      <th>4</th>\n",
       "      <td>Hôtel Hor Les Lumières</td>\n",
       "      <td>8.6</td>\n",
       "      <td>972</td>\n",
       "      <td>117</td>\n",
       "      <td>11</td>\n",
       "      <td>4</td>\n",
       "      <td>9.4</td>\n",
       "      <td>8.8</td>\n",
       "      <td>9.0</td>\n",
       "      <td>8.3</td>\n",
       "      <td>8.5</td>\n",
       "      <td>8.5</td>\n",
       "      <td>8.5</td>\n",
       "      <td>0</td>\n",
       "      <td>0</td>\n",
       "    </tr>\n",
       "  </tbody>\n",
       "</table>\n",
       "</div>"
      ],
      "text/plain": [
       "                    Hôtels  Note_moy  Nb_comms  Prix  Arrondissement  Etoiles  \\\n",
       "0               Vice Versa       7.9       573   126              15        4   \n",
       "1          The ReMIX Hotel       8.4      1116    99              19        4   \n",
       "2  TRIBE Paris Batignolles       9.1       176   130              17        5   \n",
       "3        Hotel Aida Marais       7.9      1046   141              10        3   \n",
       "4   Hôtel Hor Les Lumières       8.6       972   117              11        4   \n",
       "\n",
       "   perso  equip  prop  conf  rap_qp  situ  wifi  Riche  Sûr  \n",
       "0    8.1    8.7   8.3   8.1     7.9   7.5   8.8      0    1  \n",
       "1    7.8    8.8   8.8   8.8     8.4   8.3   8.3      0    0  \n",
       "2    8.8    9.6   9.4   9.4     9.2   8.8   9.0      1    0  \n",
       "3    8.6    8.7   8.3   7.9     8.1   7.7   7.9      0    0  \n",
       "4    9.4    8.8   9.0   8.3     8.5   8.5   8.5      0    0  "
      ]
     },
     "execution_count": 232,
     "metadata": {},
     "output_type": "execute_result"
    }
   ],
   "source": [
    "df['Sûr'] = [1 if arr in [4,5,6,7,15,16,1,2,3,8,12] else 0 for arr in df['Arrondissement']]\n",
    "df.head()"
   ]
  },
  {
   "cell_type": "markdown",
   "metadata": {},
   "source": [
    "## 3.3.2. Corrélations entre variables"
   ]
  },
  {
   "cell_type": "markdown",
   "metadata": {},
   "source": [
    "Avant de lancer un modèle de régression linéaire, il paraît judicieux de regarder sur des graphiques les relations entre notre variable d'intérêt (les prix) et nos variables explicatives. Par exemple, si l'on remarque une relation quadratique, on préfèrera mettre notre variable explicative au carré dans le modèle de régression. De plus, nos graphiques nous permettront de voir s'il est judicieux de supposer l'homoscédasticité du modèle ou non."
   ]
  },
  {
   "cell_type": "markdown",
   "metadata": {},
   "source": [
    "Tout d'abord, il faut noter que la note moyenne, par définition, s'écrit comme combinaison linéaire des autres notes. Cela implique qu'on ne peut pas laisser la note moyenne parmi nos variables explicatives pour notre régression. On décide donc de l'enlever de notre liste de variables à conserver."
   ]
  },
  {
   "cell_type": "code",
   "execution_count": 233,
   "metadata": {},
   "outputs": [
    {
     "data": {
      "text/html": [
       "<div>\n",
       "<style scoped>\n",
       "    .dataframe tbody tr th:only-of-type {\n",
       "        vertical-align: middle;\n",
       "    }\n",
       "\n",
       "    .dataframe tbody tr th {\n",
       "        vertical-align: top;\n",
       "    }\n",
       "\n",
       "    .dataframe thead th {\n",
       "        text-align: right;\n",
       "    }\n",
       "</style>\n",
       "<table border=\"1\" class=\"dataframe\">\n",
       "  <thead>\n",
       "    <tr style=\"text-align: right;\">\n",
       "      <th></th>\n",
       "      <th>Prix</th>\n",
       "      <th>Nb_comms</th>\n",
       "      <th>Etoiles</th>\n",
       "      <th>Note_moy</th>\n",
       "      <th>perso</th>\n",
       "      <th>equip</th>\n",
       "      <th>prop</th>\n",
       "      <th>conf</th>\n",
       "      <th>rap_qp</th>\n",
       "      <th>situ</th>\n",
       "      <th>wifi</th>\n",
       "      <th>Riche</th>\n",
       "      <th>Sûr</th>\n",
       "    </tr>\n",
       "  </thead>\n",
       "  <tbody>\n",
       "    <tr>\n",
       "      <th>0</th>\n",
       "      <td>126</td>\n",
       "      <td>573</td>\n",
       "      <td>4</td>\n",
       "      <td>7.9</td>\n",
       "      <td>8.1</td>\n",
       "      <td>8.7</td>\n",
       "      <td>8.3</td>\n",
       "      <td>8.1</td>\n",
       "      <td>7.9</td>\n",
       "      <td>7.5</td>\n",
       "      <td>8.8</td>\n",
       "      <td>0</td>\n",
       "      <td>1</td>\n",
       "    </tr>\n",
       "    <tr>\n",
       "      <th>1</th>\n",
       "      <td>99</td>\n",
       "      <td>1116</td>\n",
       "      <td>4</td>\n",
       "      <td>8.4</td>\n",
       "      <td>7.8</td>\n",
       "      <td>8.8</td>\n",
       "      <td>8.8</td>\n",
       "      <td>8.8</td>\n",
       "      <td>8.4</td>\n",
       "      <td>8.3</td>\n",
       "      <td>8.3</td>\n",
       "      <td>0</td>\n",
       "      <td>0</td>\n",
       "    </tr>\n",
       "    <tr>\n",
       "      <th>2</th>\n",
       "      <td>130</td>\n",
       "      <td>176</td>\n",
       "      <td>5</td>\n",
       "      <td>9.1</td>\n",
       "      <td>8.8</td>\n",
       "      <td>9.6</td>\n",
       "      <td>9.4</td>\n",
       "      <td>9.4</td>\n",
       "      <td>9.2</td>\n",
       "      <td>8.8</td>\n",
       "      <td>9.0</td>\n",
       "      <td>1</td>\n",
       "      <td>0</td>\n",
       "    </tr>\n",
       "    <tr>\n",
       "      <th>3</th>\n",
       "      <td>141</td>\n",
       "      <td>1046</td>\n",
       "      <td>3</td>\n",
       "      <td>7.9</td>\n",
       "      <td>8.6</td>\n",
       "      <td>8.7</td>\n",
       "      <td>8.3</td>\n",
       "      <td>7.9</td>\n",
       "      <td>8.1</td>\n",
       "      <td>7.7</td>\n",
       "      <td>7.9</td>\n",
       "      <td>0</td>\n",
       "      <td>0</td>\n",
       "    </tr>\n",
       "    <tr>\n",
       "      <th>4</th>\n",
       "      <td>117</td>\n",
       "      <td>972</td>\n",
       "      <td>4</td>\n",
       "      <td>8.6</td>\n",
       "      <td>9.4</td>\n",
       "      <td>8.8</td>\n",
       "      <td>9.0</td>\n",
       "      <td>8.3</td>\n",
       "      <td>8.5</td>\n",
       "      <td>8.5</td>\n",
       "      <td>8.5</td>\n",
       "      <td>0</td>\n",
       "      <td>0</td>\n",
       "    </tr>\n",
       "  </tbody>\n",
       "</table>\n",
       "</div>"
      ],
      "text/plain": [
       "   Prix  Nb_comms  Etoiles  Note_moy  perso  equip  prop  conf  rap_qp  situ  \\\n",
       "0   126       573        4       7.9    8.1    8.7   8.3   8.1     7.9   7.5   \n",
       "1    99      1116        4       8.4    7.8    8.8   8.8   8.8     8.4   8.3   \n",
       "2   130       176        5       9.1    8.8    9.6   9.4   9.4     9.2   8.8   \n",
       "3   141      1046        3       7.9    8.6    8.7   8.3   7.9     8.1   7.7   \n",
       "4   117       972        4       8.6    9.4    8.8   9.0   8.3     8.5   8.5   \n",
       "\n",
       "   wifi  Riche  Sûr  \n",
       "0   8.8      0    1  \n",
       "1   8.3      0    0  \n",
       "2   9.0      1    0  \n",
       "3   7.9      0    0  \n",
       "4   8.5      0    0  "
      ]
     },
     "execution_count": 233,
     "metadata": {},
     "output_type": "execute_result"
    }
   ],
   "source": [
    "df_agarder = df[['Prix', 'Nb_comms', 'Etoiles', 'Note_moy', 'perso', 'equip', 'prop', 'conf', 'rap_qp', 'situ', 'wifi', 'Riche', 'Sûr']]\n",
    "df_agarder.head()"
   ]
  },
  {
   "cell_type": "code",
   "execution_count": 234,
   "metadata": {
    "scrolled": true
   },
   "outputs": [
    {
     "data": {
      "image/png": "[encoded data removed]",
      "text/plain": [
       "<Figure size 1152x360 with 2 Axes>"
      ]
     },
     "metadata": {
      "needs_background": "light"
     },
     "output_type": "display_data"
    }
   ],
   "source": [
    "plt.figure(figsize = (16,5))\n",
    "ax = sns.heatmap(df_agarder.corr(), cmap='coolwarm', annot=True, fmt=\".2f\")"
   ]
  },
  {
   "cell_type": "markdown",
   "metadata": {},
   "source": [
    "Ce graphique nous montre qu'il y a peu de corrélation entre les variables explicatives (carrés bleus), sauf entre les notes (carrés oranges). À ce niveau-là, on pourrait se demander s'il n'est pas préférable de ne conserver que la note moyenne pour faire notre régression. On décide pour le moment de conserver nos variables explicatives."
   ]
  },
  {
   "cell_type": "code",
   "execution_count": 235,
   "metadata": {},
   "outputs": [],
   "source": [
    "def plot_columns(col,df):\n",
    "    for i, var_exp in enumerate(df.columns):\n",
    "        if var_exp != col:\n",
    "            plt.figure(figsize = (5,5))\n",
    "            plt.figure(i)\n",
    "            ax = sns.regplot(x=var_exp, y=col, data=df)"
   ]
  },
  {
   "cell_type": "code",
   "execution_count": 236,
   "metadata": {},
   "outputs": [
    {
     "data": {
      "image/png": "[encoded data removed]",
      "text/plain": [
       "<Figure size 360x360 with 1 Axes>"
      ]
     },
     "metadata": {
      "needs_background": "light"
     },
     "output_type": "display_data"
    },
    {
     "data": {
      "image/png": "[encoded data removed]",
      "text/plain": [
       "<Figure size 360x360 with 1 Axes>"
      ]
     },
     "metadata": {
      "needs_background": "light"
     },
     "output_type": "display_data"
    },
    {
     "data": {
      "image/png": "[encoded data removed]",
      "text/plain": [
       "<Figure size 360x360 with 1 Axes>"
      ]
     },
     "metadata": {
      "needs_background": "light"
     },
     "output_type": "display_data"
    },
    {
     "data": {
      "image/png": "[encoded data removed]",
      "text/plain": [
       "<Figure size 360x360 with 1 Axes>"
      ]
     },
     "metadata": {
      "needs_background": "light"
     },
     "output_type": "display_data"
    },
    {
     "data": {
      "image/png": "[encoded data removed]",
      "text/plain": [
       "<Figure size 360x360 with 1 Axes>"
      ]
     },
     "metadata": {
      "needs_background": "light"
     },
     "output_type": "display_data"
    },
    {
     "data": {
      "image/png": "[encoded data removed]",
      "text/plain": [
       "<Figure size 360x360 with 1 Axes>"
      ]
     },
     "metadata": {
      "needs_background": "light"
     },
     "output_type": "display_data"
    },
    {
     "data": {
      "image/png": "[encoded data removed]",
      "text/plain": [
       "<Figure size 360x360 with 1 Axes>"
      ]
     },
     "metadata": {
      "needs_background": "light"
     },
     "output_type": "display_data"
    },
    {
     "data": {
      "image/png": "[encoded data removed]",
      "text/plain": [
       "<Figure size 360x360 with 1 Axes>"
      ]
     },
     "metadata": {
      "needs_background": "light"
     },
     "output_type": "display_data"
    },
    {
     "data": {
      "image/png": "[encoded data removed]",
      "text/plain": [
       "<Figure size 360x360 with 1 Axes>"
      ]
     },
     "metadata": {
      "needs_background": "light"
     },
     "output_type": "display_data"
    },
    {
     "data": {
      "image/png": "[encoded data removed]",
      "text/plain": [
       "<Figure size 360x360 with 1 Axes>"
      ]
     },
     "metadata": {
      "needs_background": "light"
     },
     "output_type": "display_data"
    },
    {
     "data": {
      "image/png": "[encoded data removed]",
      "text/plain": [
       "<Figure size 360x360 with 1 Axes>"
      ]
     },
     "metadata": {
      "needs_background": "light"
     },
     "output_type": "display_data"
    },
    {
     "data": {
      "image/png": "[encoded data removed]",
      "text/plain": [
       "<Figure size 360x360 with 1 Axes>"
      ]
     },
     "metadata": {
      "needs_background": "light"
     },
     "output_type": "display_data"
    }
   ],
   "source": [
    "plot_columns('Prix', df_agarder)"
   ]
  },
  {
   "cell_type": "markdown",
   "metadata": {},
   "source": [
    "Ces graphiques nous montrent que :\n",
    "\n",
    "- Il n'y a pas de relation claire entre le nombre de commentaires et le prix de réservation. On aurait pu penser que le nombre de commentaires était un indicateur de la popularité des hôtels, et donc aurait pu influencer positivement le prix de vente, mais ce n'est finalement pas le cas.\n",
    "\n",
    "- Chacune des notes a une relation similaire avec les prix. Ce résultat confirme que les notes selon différents critères sont corrélées, et nous encourage à ne garder que les notes moyennes. De plus, cette relation est hétéroscédastique : la dispersion des points autour des droites de régression n'est pas constante.\n",
    "\n",
    "- La richesse et la sûreté de l'arrondissement semblent pousser légèrement les prix à la hausse."
   ]
  },
  {
   "cell_type": "markdown",
   "metadata": {},
   "source": [
    "## 3.3.3. Implémentation des modèles de régression"
   ]
  },
  {
   "cell_type": "markdown",
   "metadata": {},
   "source": [
    "On essaye maintenant d'ajuster un modèle de régression à partir de ces variables explicatives. Le premier modèle conserve toutes les variables explicatives exploitables."
   ]
  },
  {
   "cell_type": "markdown",
   "metadata": {},
   "source": [
    "### Modèle 1 : inclusion de toutes les variables explicatives"
   ]
  },
  {
   "cell_type": "code",
   "execution_count": 237,
   "metadata": {},
   "outputs": [
    {
     "data": {
      "text/html": [
       "<table class=\"simpletable\">\n",
       "<caption>OLS Regression Results</caption>\n",
       "<tr>\n",
       "  <th>Dep. Variable:</th>          <td>Prix</td>       <th>  R-squared:         </th> <td>   0.487</td>\n",
       "</tr>\n",
       "<tr>\n",
       "  <th>Model:</th>                   <td>OLS</td>       <th>  Adj. R-squared:    </th> <td>   0.474</td>\n",
       "</tr>\n",
       "<tr>\n",
       "  <th>Method:</th>             <td>Least Squares</td>  <th>  F-statistic:       </th> <td>   35.94</td>\n",
       "</tr>\n",
       "<tr>\n",
       "  <th>Date:</th>             <td>Thu, 06 Jan 2022</td> <th>  Prob (F-statistic):</th> <td>1.00e-53</td>\n",
       "</tr>\n",
       "<tr>\n",
       "  <th>Time:</th>                 <td>11:26:55</td>     <th>  Log-Likelihood:    </th> <td> -2224.1</td>\n",
       "</tr>\n",
       "<tr>\n",
       "  <th>No. Observations:</th>      <td>   428</td>      <th>  AIC:               </th> <td>   4472.</td>\n",
       "</tr>\n",
       "<tr>\n",
       "  <th>Df Residuals:</th>          <td>   416</td>      <th>  BIC:               </th> <td>   4521.</td>\n",
       "</tr>\n",
       "<tr>\n",
       "  <th>Df Model:</th>              <td>    11</td>      <th>                     </th>     <td> </td>   \n",
       "</tr>\n",
       "<tr>\n",
       "  <th>Covariance Type:</th>      <td>nonrobust</td>    <th>                     </th>     <td> </td>   \n",
       "</tr>\n",
       "</table>\n",
       "<table class=\"simpletable\">\n",
       "<tr>\n",
       "      <td></td>         <th>coef</th>     <th>std err</th>      <th>t</th>      <th>P>|t|</th>  <th>[0.025</th>    <th>0.975]</th>  \n",
       "</tr>\n",
       "<tr>\n",
       "  <th>Intercept</th> <td> -406.7532</td> <td>   50.470</td> <td>   -8.059</td> <td> 0.000</td> <td> -505.962</td> <td> -307.544</td>\n",
       "</tr>\n",
       "<tr>\n",
       "  <th>Nb_comms</th>  <td>   -0.0046</td> <td>    0.003</td> <td>   -1.787</td> <td> 0.075</td> <td>   -0.010</td> <td>    0.000</td>\n",
       "</tr>\n",
       "<tr>\n",
       "  <th>Etoiles</th>   <td>    9.4194</td> <td>    2.796</td> <td>    3.369</td> <td> 0.001</td> <td>    3.923</td> <td>   14.915</td>\n",
       "</tr>\n",
       "<tr>\n",
       "  <th>perso</th>     <td>   17.3163</td> <td>    6.059</td> <td>    2.858</td> <td> 0.004</td> <td>    5.406</td> <td>   29.226</td>\n",
       "</tr>\n",
       "<tr>\n",
       "  <th>equip</th>     <td>   11.8582</td> <td>    5.494</td> <td>    2.158</td> <td> 0.031</td> <td>    1.059</td> <td>   22.658</td>\n",
       "</tr>\n",
       "<tr>\n",
       "  <th>prop</th>      <td>  -35.9621</td> <td>   14.387</td> <td>   -2.500</td> <td> 0.013</td> <td>  -64.242</td> <td>   -7.683</td>\n",
       "</tr>\n",
       "<tr>\n",
       "  <th>conf</th>      <td>   64.9413</td> <td>    8.248</td> <td>    7.874</td> <td> 0.000</td> <td>   48.728</td> <td>   81.154</td>\n",
       "</tr>\n",
       "<tr>\n",
       "  <th>rap_qp</th>    <td>   20.0579</td> <td>   13.170</td> <td>    1.523</td> <td> 0.129</td> <td>   -5.831</td> <td>   45.946</td>\n",
       "</tr>\n",
       "<tr>\n",
       "  <th>situ</th>      <td>  -26.4242</td> <td>    7.999</td> <td>   -3.303</td> <td> 0.001</td> <td>  -42.148</td> <td>  -10.700</td>\n",
       "</tr>\n",
       "<tr>\n",
       "  <th>wifi</th>      <td>    9.8591</td> <td>    4.277</td> <td>    2.305</td> <td> 0.022</td> <td>    1.452</td> <td>   18.266</td>\n",
       "</tr>\n",
       "<tr>\n",
       "  <th>Riche</th>     <td>   16.3247</td> <td>    5.069</td> <td>    3.221</td> <td> 0.001</td> <td>    6.361</td> <td>   26.288</td>\n",
       "</tr>\n",
       "<tr>\n",
       "  <th>Sûr</th>       <td>   18.2749</td> <td>    4.921</td> <td>    3.714</td> <td> 0.000</td> <td>    8.602</td> <td>   27.947</td>\n",
       "</tr>\n",
       "</table>\n",
       "<table class=\"simpletable\">\n",
       "<tr>\n",
       "  <th>Omnibus:</th>       <td>136.431</td> <th>  Durbin-Watson:     </th> <td>   1.622</td> \n",
       "</tr>\n",
       "<tr>\n",
       "  <th>Prob(Omnibus):</th> <td> 0.000</td>  <th>  Jarque-Bera (JB):  </th> <td> 576.529</td> \n",
       "</tr>\n",
       "<tr>\n",
       "  <th>Skew:</th>          <td> 1.351</td>  <th>  Prob(JB):          </th> <td>6.43e-126</td>\n",
       "</tr>\n",
       "<tr>\n",
       "  <th>Kurtosis:</th>      <td> 8.003</td>  <th>  Cond. No.          </th> <td>2.99e+04</td> \n",
       "</tr>\n",
       "</table><br/><br/>Warnings:<br/>[1] Standard Errors assume that the covariance matrix of the errors is correctly specified.<br/>[2] The condition number is large, 2.99e+04. This might indicate that there are<br/>strong multicollinearity or other numerical problems."
      ],
      "text/plain": [
       "<class 'statsmodels.iolib.summary.Summary'>\n",
       "\"\"\"\n",
       "                            OLS Regression Results                            \n",
       "==============================================================================\n",
       "Dep. Variable:                   Prix   R-squared:                       0.487\n",
       "Model:                            OLS   Adj. R-squared:                  0.474\n",
       "Method:                 Least Squares   F-statistic:                     35.94\n",
       "Date:                Thu, 06 Jan 2022   Prob (F-statistic):           1.00e-53\n",
       "Time:                        11:26:55   Log-Likelihood:                -2224.1\n",
       "No. Observations:                 428   AIC:                             4472.\n",
       "Df Residuals:                     416   BIC:                             4521.\n",
       "Df Model:                          11                                         \n",
       "Covariance Type:            nonrobust                                         \n",
       "==============================================================================\n",
       "                 coef    std err          t      P>|t|      [0.025      0.975]\n",
       "------------------------------------------------------------------------------\n",
       "Intercept   -406.7532     50.470     -8.059      0.000    -505.962    -307.544\n",
       "Nb_comms      -0.0046      0.003     -1.787      0.075      -0.010       0.000\n",
       "Etoiles        9.4194      2.796      3.369      0.001       3.923      14.915\n",
       "perso         17.3163      6.059      2.858      0.004       5.406      29.226\n",
       "equip         11.8582      5.494      2.158      0.031       1.059      22.658\n",
       "prop         -35.9621     14.387     -2.500      0.013     -64.242      -7.683\n",
       "conf          64.9413      8.248      7.874      0.000      48.728      81.154\n",
       "rap_qp        20.0579     13.170      1.523      0.129      -5.831      45.946\n",
       "situ         -26.4242      7.999     -3.303      0.001     -42.148     -10.700\n",
       "wifi           9.8591      4.277      2.305      0.022       1.452      18.266\n",
       "Riche         16.3247      5.069      3.221      0.001       6.361      26.288\n",
       "Sûr           18.2749      4.921      3.714      0.000       8.602      27.947\n",
       "==============================================================================\n",
       "Omnibus:                      136.431   Durbin-Watson:                   1.622\n",
       "Prob(Omnibus):                  0.000   Jarque-Bera (JB):              576.529\n",
       "Skew:                           1.351   Prob(JB):                    6.43e-126\n",
       "Kurtosis:                       8.003   Cond. No.                     2.99e+04\n",
       "==============================================================================\n",
       "\n",
       "Warnings:\n",
       "[1] Standard Errors assume that the covariance matrix of the errors is correctly specified.\n",
       "[2] The condition number is large, 2.99e+04. This might indicate that there are\n",
       "strong multicollinearity or other numerical problems.\n",
       "\"\"\""
      ]
     },
     "execution_count": 237,
     "metadata": {},
     "output_type": "execute_result"
    }
   ],
   "source": [
    "mod = smf.ols(formula = 'Prix ~ Nb_comms + Etoiles + perso + equip + prop + conf + rap_qp + situ + wifi + Riche + Sûr', data=df_agarder)\n",
    "res = mod.fit()\n",
    "res.summary()"
   ]
  },
  {
   "cell_type": "markdown",
   "metadata": {},
   "source": [
    "On peut tout d'abord remarquer que nos variables explicatives expliquent 48% des variations des prix (c'est le $R^2$). Il semble donc y avoir d'autres caractéristiques des hôtels, absentes de notre modèle, qui auraient pu participer à la détermination des prix."
   ]
  },
  {
   "cell_type": "markdown",
   "metadata": {},
   "source": [
    "Ce modèle semble mal spécifié : en effet, certaines notes (propreté, endroit) semblent avoir une corrélation négative avec le prix, en contradiction avec nos graphiques ci-dessus. De plus, on ne peut pas dire que le nombre de commentaires et la note de rapport qualité/prix aient un impact significatif sur le prix au niveau de risque (de première espèce) 5%. On décide donc d'exclure ces variables de notre prochain modèle."
   ]
  },
  {
   "cell_type": "markdown",
   "metadata": {},
   "source": [
    "### Modèle 2 : suppression des variables explicatives non-significatives"
   ]
  },
  {
   "cell_type": "code",
   "execution_count": 238,
   "metadata": {},
   "outputs": [
    {
     "data": {
      "text/html": [
       "<table class=\"simpletable\">\n",
       "<caption>OLS Regression Results</caption>\n",
       "<tr>\n",
       "  <th>Dep. Variable:</th>          <td>Prix</td>       <th>  R-squared:         </th> <td>   0.403</td>\n",
       "</tr>\n",
       "<tr>\n",
       "  <th>Model:</th>                   <td>OLS</td>       <th>  Adj. R-squared:    </th> <td>   0.393</td>\n",
       "</tr>\n",
       "<tr>\n",
       "  <th>Method:</th>             <td>Least Squares</td>  <th>  F-statistic:       </th> <td>   40.48</td>\n",
       "</tr>\n",
       "<tr>\n",
       "  <th>Date:</th>             <td>Thu, 06 Jan 2022</td> <th>  Prob (F-statistic):</th> <td>1.95e-43</td>\n",
       "</tr>\n",
       "<tr>\n",
       "  <th>Time:</th>                 <td>11:26:55</td>     <th>  Log-Likelihood:    </th> <td> -2256.7</td>\n",
       "</tr>\n",
       "<tr>\n",
       "  <th>No. Observations:</th>      <td>   428</td>      <th>  AIC:               </th> <td>   4529.</td>\n",
       "</tr>\n",
       "<tr>\n",
       "  <th>Df Residuals:</th>          <td>   420</td>      <th>  BIC:               </th> <td>   4562.</td>\n",
       "</tr>\n",
       "<tr>\n",
       "  <th>Df Model:</th>              <td>     7</td>      <th>                     </th>     <td> </td>   \n",
       "</tr>\n",
       "<tr>\n",
       "  <th>Covariance Type:</th>      <td>nonrobust</td>    <th>                     </th>     <td> </td>   \n",
       "</tr>\n",
       "</table>\n",
       "<table class=\"simpletable\">\n",
       "<tr>\n",
       "      <td></td>         <th>coef</th>     <th>std err</th>      <th>t</th>      <th>P>|t|</th>  <th>[0.025</th>    <th>0.975]</th>  \n",
       "</tr>\n",
       "<tr>\n",
       "  <th>Intercept</th> <td> -491.9816</td> <td>   51.227</td> <td>   -9.604</td> <td> 0.000</td> <td> -592.676</td> <td> -391.288</td>\n",
       "</tr>\n",
       "<tr>\n",
       "  <th>Etoiles</th>   <td>   14.8343</td> <td>    2.862</td> <td>    5.183</td> <td> 0.000</td> <td>    9.209</td> <td>   20.460</td>\n",
       "</tr>\n",
       "<tr>\n",
       "  <th>Note_moy</th>  <td>   26.6865</td> <td>    8.216</td> <td>    3.248</td> <td> 0.001</td> <td>   10.536</td> <td>   42.837</td>\n",
       "</tr>\n",
       "<tr>\n",
       "  <th>Riche</th>     <td>   18.8347</td> <td>    5.336</td> <td>    3.530</td> <td> 0.000</td> <td>    8.347</td> <td>   29.322</td>\n",
       "</tr>\n",
       "<tr>\n",
       "  <th>Sûr</th>       <td>   14.9418</td> <td>    5.225</td> <td>    2.860</td> <td> 0.004</td> <td>    4.672</td> <td>   25.212</td>\n",
       "</tr>\n",
       "<tr>\n",
       "  <th>perso</th>     <td>   12.2427</td> <td>    7.116</td> <td>    1.721</td> <td> 0.086</td> <td>   -1.744</td> <td>   26.230</td>\n",
       "</tr>\n",
       "<tr>\n",
       "  <th>equip</th>     <td>   16.6318</td> <td>    5.441</td> <td>    3.057</td> <td> 0.002</td> <td>    5.937</td> <td>   27.327</td>\n",
       "</tr>\n",
       "<tr>\n",
       "  <th>wifi</th>      <td>   12.9194</td> <td>    4.448</td> <td>    2.904</td> <td> 0.004</td> <td>    4.175</td> <td>   21.663</td>\n",
       "</tr>\n",
       "</table>\n",
       "<table class=\"simpletable\">\n",
       "<tr>\n",
       "  <th>Omnibus:</th>       <td>145.114</td> <th>  Durbin-Watson:     </th> <td>   1.512</td> \n",
       "</tr>\n",
       "<tr>\n",
       "  <th>Prob(Omnibus):</th> <td> 0.000</td>  <th>  Jarque-Bera (JB):  </th> <td> 612.559</td> \n",
       "</tr>\n",
       "<tr>\n",
       "  <th>Skew:</th>          <td> 1.447</td>  <th>  Prob(JB):          </th> <td>9.65e-134</td>\n",
       "</tr>\n",
       "<tr>\n",
       "  <th>Kurtosis:</th>      <td> 8.096</td>  <th>  Cond. No.          </th> <td>    395.</td> \n",
       "</tr>\n",
       "</table><br/><br/>Warnings:<br/>[1] Standard Errors assume that the covariance matrix of the errors is correctly specified."
      ],
      "text/plain": [
       "<class 'statsmodels.iolib.summary.Summary'>\n",
       "\"\"\"\n",
       "                            OLS Regression Results                            \n",
       "==============================================================================\n",
       "Dep. Variable:                   Prix   R-squared:                       0.403\n",
       "Model:                            OLS   Adj. R-squared:                  0.393\n",
       "Method:                 Least Squares   F-statistic:                     40.48\n",
       "Date:                Thu, 06 Jan 2022   Prob (F-statistic):           1.95e-43\n",
       "Time:                        11:26:55   Log-Likelihood:                -2256.7\n",
       "No. Observations:                 428   AIC:                             4529.\n",
       "Df Residuals:                     420   BIC:                             4562.\n",
       "Df Model:                           7                                         \n",
       "Covariance Type:            nonrobust                                         \n",
       "==============================================================================\n",
       "                 coef    std err          t      P>|t|      [0.025      0.975]\n",
       "------------------------------------------------------------------------------\n",
       "Intercept   -491.9816     51.227     -9.604      0.000    -592.676    -391.288\n",
       "Etoiles       14.8343      2.862      5.183      0.000       9.209      20.460\n",
       "Note_moy      26.6865      8.216      3.248      0.001      10.536      42.837\n",
       "Riche         18.8347      5.336      3.530      0.000       8.347      29.322\n",
       "Sûr           14.9418      5.225      2.860      0.004       4.672      25.212\n",
       "perso         12.2427      7.116      1.721      0.086      -1.744      26.230\n",
       "equip         16.6318      5.441      3.057      0.002       5.937      27.327\n",
       "wifi          12.9194      4.448      2.904      0.004       4.175      21.663\n",
       "==============================================================================\n",
       "Omnibus:                      145.114   Durbin-Watson:                   1.512\n",
       "Prob(Omnibus):                  0.000   Jarque-Bera (JB):              612.559\n",
       "Skew:                           1.447   Prob(JB):                    9.65e-134\n",
       "Kurtosis:                       8.096   Cond. No.                         395.\n",
       "==============================================================================\n",
       "\n",
       "Warnings:\n",
       "[1] Standard Errors assume that the covariance matrix of the errors is correctly specified.\n",
       "\"\"\""
      ]
     },
     "execution_count": 238,
     "metadata": {},
     "output_type": "execute_result"
    }
   ],
   "source": [
    "smf.ols(formula = 'Prix ~ Etoiles + Note_moy + Riche + Sûr + perso + equip + wifi', data=df).fit().summary()"
   ]
  },
  {
   "cell_type": "markdown",
   "metadata": {},
   "source": [
    "Ce modèle produit des résultats plus cohérents puisque chaque indicateur a une influence positive sur les prix de réservation. Toutefois, il est légitime de se demander si on doit laisser les variables 'Etoiles' et celles relatives aux notes telles quelles. En effet :\n",
    "\n",
    "- d'une part, la variable 'Etoiles' prend des valeurs entières comprises entre 0 et 5\n",
    "- d'autre part, les variables de notes prennent des valeurs comprises entre 0 et 10 (et même entre 6 et 10 dans notre jeu de données)\n",
    "\n",
    "On peut essayer de transformer ces variables en variables catégorielles. Autrement dit, à partir d'une colonne associée à une variable explicative prenant $k$ valeurs possibles, on peut obtenir $k-1$ colonnes binaires avec des 1 si la variable explicative prend la valeur correspondante et 0 sinon. Il est nécessaire de prendre $k-1$ colonnes et non $k$, car sinon leur somme formera une variable constante égale à 1, et on aura alors une relation linéaire entre toutes ces colonnes, rendant la régression linéaire impossible.\n",
    "\n",
    "Ici, on peut par exemple transformer la variable 'Etoiles' en 4 variables catégorielles :\n",
    "\n",
    "- 1 ou 2 étoiles\n",
    "- 3 étoiles\n",
    "- 4 étoiles\n",
    "- 5 étoiles\n",
    "\n",
    "et ne pas garder la variable '3 étoiles', qui est le niveau de qualité médian de notre jeu de données. Cela nous permettra de voir l'évolution des prix lorsque l'on a affaire à des hôtels de qualité plus basse (- de 3 étoiles) ou élevée (+ de 3 étoiles). On regroupe les hôtels à 1 ou 2 étoiles, car on n'a pas assez d'hôtels à 1 étoile dans notre jeu de données, ce qui aurait pu conduire à des résultats imprécis.\n",
    "\n",
    "De même, pour chaque critère, on regroupe :\n",
    "- les notes suffisamment élevées pour dire que l'hôtel a cherché à se démarquer de la concurrence sur ce critère\n",
    "- les notes suffisamment basses pour dire que l'hôtel s'est moins focalisé sur ce critère que les autres\n",
    "\n",
    "Ces notes sont choisies de sorte qu'il y ait suffisamment d'hôtels (au moins 25) dans ces deux catégories. Il est donc utile de regarder les valeurs prises par nos variables de notes."
   ]
  },
  {
   "cell_type": "code",
   "execution_count": 239,
   "metadata": {},
   "outputs": [
    {
     "data": {
      "text/plain": [
       "4    177\n",
       "3    158\n",
       "5     70\n",
       "2     21\n",
       "1      2\n",
       "Name: Etoiles, dtype: int64"
      ]
     },
     "execution_count": 239,
     "metadata": {},
     "output_type": "execute_result"
    }
   ],
   "source": [
    "df[\"Etoiles\"].value_counts()"
   ]
  },
  {
   "cell_type": "code",
   "execution_count": 240,
   "metadata": {},
   "outputs": [],
   "source": [
    "df['cinq_etoiles'] = df['Etoiles']==5\n",
    "df['quatre_etoiles'] = df['Etoiles']==4\n",
    "df['moins_de_trois_etoiles'] = df['Etoiles']<3"
   ]
  },
  {
   "cell_type": "code",
   "execution_count": 241,
   "metadata": {},
   "outputs": [
    {
     "data": {
      "text/plain": [
       "9.8     2\n",
       "9.7    10\n",
       "9.6    16\n",
       "9.5    28\n",
       "9.4    31\n",
       "Name: equip, dtype: int64"
      ]
     },
     "execution_count": 241,
     "metadata": {},
     "output_type": "execute_result"
    }
   ],
   "source": [
    "df[\"equip\"].value_counts().sort_index(ascending=False).head()"
   ]
  },
  {
   "cell_type": "code",
   "execution_count": 242,
   "metadata": {},
   "outputs": [],
   "source": [
    "df['equipTB'] = df['equip']>=9.5\n",
    "df['equipM'] = df['equip']<=8"
   ]
  },
  {
   "cell_type": "code",
   "execution_count": 243,
   "metadata": {},
   "outputs": [
    {
     "data": {
      "text/plain": [
       "9.9     1\n",
       "9.8     1\n",
       "9.7    11\n",
       "9.6    16\n",
       "9.5    17\n",
       "Name: perso, dtype: int64"
      ]
     },
     "execution_count": 243,
     "metadata": {},
     "output_type": "execute_result"
    }
   ],
   "source": [
    "df[\"perso\"].value_counts().sort_index(ascending=False).head()"
   ]
  },
  {
   "cell_type": "code",
   "execution_count": 244,
   "metadata": {},
   "outputs": [
    {
     "data": {
      "text/plain": [
       "6.4    2\n",
       "7.4    1\n",
       "7.6    2\n",
       "7.7    3\n",
       "7.8    2\n",
       "Name: perso, dtype: int64"
      ]
     },
     "execution_count": 244,
     "metadata": {},
     "output_type": "execute_result"
    }
   ],
   "source": [
    "df[\"perso\"].value_counts().sort_index(ascending=True).head()"
   ]
  },
  {
   "cell_type": "code",
   "execution_count": 245,
   "metadata": {},
   "outputs": [],
   "source": [
    "df['persoTB'] = df['perso']>=9.5\n",
    "df['persoM'] = df['perso']<=8"
   ]
  },
  {
   "cell_type": "code",
   "execution_count": 246,
   "metadata": {},
   "outputs": [
    {
     "data": {
      "text/plain": [
       "9.7     1\n",
       "9.6     2\n",
       "9.5     8\n",
       "9.4    16\n",
       "9.3    13\n",
       "Name: prop, dtype: int64"
      ]
     },
     "execution_count": 246,
     "metadata": {},
     "output_type": "execute_result"
    }
   ],
   "source": [
    "df[\"prop\"].value_counts().sort_index(ascending=False).head()"
   ]
  },
  {
   "cell_type": "code",
   "execution_count": 247,
   "metadata": {},
   "outputs": [
    {
     "data": {
      "text/plain": [
       "6.7    2\n",
       "6.8    1\n",
       "6.9    1\n",
       "7.0    2\n",
       "7.1    2\n",
       "7.2    2\n",
       "7.3    2\n",
       "7.4    2\n",
       "7.5    7\n",
       "7.6    4\n",
       "Name: prop, dtype: int64"
      ]
     },
     "execution_count": 247,
     "metadata": {},
     "output_type": "execute_result"
    }
   ],
   "source": [
    "df[\"prop\"].value_counts().sort_index(ascending=True).head(10)"
   ]
  },
  {
   "cell_type": "code",
   "execution_count": 248,
   "metadata": {},
   "outputs": [],
   "source": [
    "df['propTB'] = df['prop']>=9.3\n",
    "df['propM'] = df['prop']<=7.6"
   ]
  },
  {
   "cell_type": "code",
   "execution_count": 249,
   "metadata": {},
   "outputs": [
    {
     "data": {
      "text/plain": [
       "9.6     2\n",
       "9.5     1\n",
       "9.4     4\n",
       "9.3    11\n",
       "9.2     9\n",
       "Name: conf, dtype: int64"
      ]
     },
     "execution_count": 249,
     "metadata": {},
     "output_type": "execute_result"
    }
   ],
   "source": [
    "df[\"conf\"].value_counts().sort_index(ascending=False).head()"
   ]
  },
  {
   "cell_type": "code",
   "execution_count": 250,
   "metadata": {},
   "outputs": [
    {
     "data": {
      "text/plain": [
       "6.5    2\n",
       "6.6    1\n",
       "6.7    1\n",
       "6.8    2\n",
       "6.9    3\n",
       "7.0    3\n",
       "7.1    4\n",
       "7.2    4\n",
       "7.3    8\n",
       "Name: conf, dtype: int64"
      ]
     },
     "execution_count": 250,
     "metadata": {},
     "output_type": "execute_result"
    }
   ],
   "source": [
    "df[\"conf\"].value_counts().sort_index(ascending=True).head(9)"
   ]
  },
  {
   "cell_type": "code",
   "execution_count": 251,
   "metadata": {},
   "outputs": [],
   "source": [
    "df['confTB'] = df['conf']>=9.2\n",
    "df['confM'] = df['conf']<=7.3"
   ]
  },
  {
   "cell_type": "code",
   "execution_count": 252,
   "metadata": {},
   "outputs": [
    {
     "data": {
      "text/plain": [
       "9.5    2\n",
       "9.4    1\n",
       "9.2    2\n",
       "9.1    4\n",
       "9.0    6\n",
       "8.9    8\n",
       "Name: situ, dtype: int64"
      ]
     },
     "execution_count": 252,
     "metadata": {},
     "output_type": "execute_result"
    }
   ],
   "source": [
    "df[\"situ\"].value_counts().sort_index(ascending=False).head(6)"
   ]
  },
  {
   "cell_type": "code",
   "execution_count": 253,
   "metadata": {},
   "outputs": [
    {
     "data": {
      "text/plain": [
       "6.2    1\n",
       "6.3    1\n",
       "6.4    3\n",
       "6.5    2\n",
       "6.6    3\n",
       "6.7    1\n",
       "6.8    3\n",
       "6.9    9\n",
       "7.0    3\n",
       "Name: situ, dtype: int64"
      ]
     },
     "execution_count": 253,
     "metadata": {},
     "output_type": "execute_result"
    }
   ],
   "source": [
    "df[\"situ\"].value_counts().sort_index(ascending=True).head(9)"
   ]
  },
  {
   "cell_type": "code",
   "execution_count": 254,
   "metadata": {},
   "outputs": [],
   "source": [
    "df['situTB'] = df['situ']>=8.9\n",
    "df['situM'] = df['situ']<=7"
   ]
  },
  {
   "cell_type": "code",
   "execution_count": 255,
   "metadata": {},
   "outputs": [
    {
     "data": {
      "text/plain": [
       "10.0     1\n",
       "9.7      1\n",
       "9.6      3\n",
       "9.5      1\n",
       "9.4      7\n",
       "9.3     11\n",
       "Name: wifi, dtype: int64"
      ]
     },
     "execution_count": 255,
     "metadata": {},
     "output_type": "execute_result"
    }
   ],
   "source": [
    "df[\"wifi\"].value_counts().sort_index(ascending=False).head(6)"
   ]
  },
  {
   "cell_type": "code",
   "execution_count": 256,
   "metadata": {},
   "outputs": [
    {
     "data": {
      "text/plain": [
       "6.1    1\n",
       "6.4    1\n",
       "6.5    2\n",
       "6.6    3\n",
       "6.8    5\n",
       "6.9    2\n",
       "7.0    1\n",
       "7.1    8\n",
       "Name: wifi, dtype: int64"
      ]
     },
     "execution_count": 256,
     "metadata": {},
     "output_type": "execute_result"
    }
   ],
   "source": [
    "df[\"wifi\"].value_counts().sort_index(ascending=True).head(8)"
   ]
  },
  {
   "cell_type": "code",
   "execution_count": 257,
   "metadata": {},
   "outputs": [],
   "source": [
    "df['wifiTB'] = df['wifi']>=9.3\n",
    "df['wifiM'] = df['wifi']<=7.1"
   ]
  },
  {
   "cell_type": "markdown",
   "metadata": {},
   "source": [
    "### Modèle 3 : utilisation de variables catégorielles"
   ]
  },
  {
   "cell_type": "code",
   "execution_count": 258,
   "metadata": {},
   "outputs": [
    {
     "name": "stdout",
     "output_type": "stream",
     "text": [
      "                            OLS Regression Results                            \n",
      "==============================================================================\n",
      "Dep. Variable:                   Prix   R-squared:                       0.398\n",
      "Model:                            OLS   Adj. R-squared:                  0.379\n",
      "Method:                 Least Squares   F-statistic:                     21.03\n",
      "Date:                Thu, 06 Jan 2022   Prob (F-statistic):           3.50e-38\n",
      "Time:                        11:26:55   Log-Likelihood:                -2258.5\n",
      "No. Observations:                 428   AIC:                             4545.\n",
      "Df Residuals:                     414   BIC:                             4602.\n",
      "Df Model:                          13                                         \n",
      "Covariance Type:            nonrobust                                         \n",
      "==================================================================================================\n",
      "                                     coef    std err          t      P>|t|      [0.025      0.975]\n",
      "--------------------------------------------------------------------------------------------------\n",
      "Intercept                        122.3439      4.955     24.690      0.000     112.604     132.084\n",
      "cinq_etoiles[T.True]              21.9810      6.977      3.151      0.002       8.267      35.695\n",
      "quatre_etoiles[T.True]            36.7188      5.526      6.645      0.000      25.856      47.581\n",
      "moins_de_trois_etoiles[T.True]    -9.9284     10.944     -0.907      0.365     -31.441      11.584\n",
      "persoTB[T.True]                   45.9963      7.964      5.775      0.000      30.341      61.652\n",
      "persoM[T.True]                    -9.3703     11.406     -0.822      0.412     -31.791      13.050\n",
      "equipTB[T.True]                   24.6786      7.264      3.397      0.001      10.400      38.957\n",
      "equipM[T.True]                   -36.1366     10.994     -3.287      0.001     -57.747     -14.526\n",
      "situTB[T.True]                    13.6891     11.276      1.214      0.225      -8.476      35.854\n",
      "situM[T.True]                     -9.5741     11.805     -0.811      0.418     -32.779      13.630\n",
      "wifiTB[T.True]                    34.1971     10.544      3.243      0.001      13.471      54.923\n",
      "wifiM[T.True]                    -18.2348     10.768     -1.693      0.091     -39.402       2.932\n",
      "Riche                             18.0384      5.429      3.323      0.001       7.367      28.710\n",
      "Sûr                               18.0693      5.218      3.463      0.001       7.812      28.327\n",
      "==============================================================================\n",
      "Omnibus:                      125.433   Durbin-Watson:                   1.674\n",
      "Prob(Omnibus):                  0.000   Jarque-Bera (JB):              396.468\n",
      "Skew:                           1.342   Prob(JB):                     8.09e-87\n",
      "Kurtosis:                       6.876   Cond. No.                         8.43\n",
      "==============================================================================\n",
      "\n",
      "Warnings:\n",
      "[1] Standard Errors assume that the covariance matrix of the errors is correctly specified.\n"
     ]
    }
   ],
   "source": [
    "model_fin= smf.ols('Prix ~ cinq_etoiles + quatre_etoiles + moins_de_trois_etoiles + Riche + Sûr + persoTB + persoM + equipTB + equipM + situTB + situM + wifiTB + wifiM', data=df).fit()\n",
    "print(model_fin.summary())"
   ]
  },
  {
   "cell_type": "markdown",
   "metadata": {},
   "source": [
    "Ce modèle permet d'interpréter le prix des hôtels comme somme d'un prix fixe (interprétable comme le coût pour un couple de dormir une nuit dans une chambre d'hôtel à Paris) et de coûts supplémentaires (ou des baisses de prix) selon les caractéristiques des hôtels. Notons que dans ce modèle, le \"prix fixe\" est positif, donc le modèle semble mieux spécifié que les précédents."
   ]
  },
  {
   "cell_type": "markdown",
   "metadata": {},
   "source": [
    "Ce modèle appelle plusieurs interprétations :\n",
    "- Il semble que les hôtels à 5 étoiles coûtent moins cher à la réservation que les hôtels à 4 étoiles, ce que l'on pouvait déjà percevoir sur le graphique de diagnostic (avec le nombre d'étoiles en abscisses et le prix en ordonnées). À première vue, ce résultat n'est pas cohérent, mais en y regardant de plus près, l'intervalle de confiance à 95% de la valeur \"exacte\" de l'effet marginal est comprise entre 10 et 38 pour les hôtels 5 étoiles, et entre 25 et 46 pour les hôtels 4 étoiles. Il est donc possible que l'effet marginal sur les prix d'un hôtel 5 étoiles soit plus important que pour un hôtel 4 étoiles.\n",
    "- Au niveau de risque 5%, on ne peut pas dire que le fait qu'un hôtel ait moins de 3 étoiles a un effet significatif sur le prix de réservation de la chambre. Si un tel effet marginal existait, il serait négatif, ce qui semble cohérent, car par rapport à l'ensemble des hôtels de la base de données, les hôtels à moins de 3 étoiles paraissent moins bien côtés.\n",
    "- Le fait d'avoir un personnel apprécié (très bonne note pour ce critère) conduit à une augmentation du prix assez marquée par rapport au cas où le personnel est moins apprécié (note moyenne ou basse). Une possibilité d'explication est que l'hôtel paie davantage son personnel ou embauche plus pour améliorer sa qualité de service, ce qui se traduit par une augmentation des prix en conséquence.\n",
    "- Il en est de même pour l'équipement, pour des raisons similaires (l'équipement est payé par l'hôtel, qui répercute ensuite ces coûts sur le prix de réservation).\n",
    "- Le fait d'être dans un quartier riche ou sûr augmente naturellement le prix de réservation, car ces deux caractéristiques attirent les clients. Inversement, le fait d'être dans un arrondissement pauvre ou réputé pour son insécurité peut rebuter certains clients potentiels."
   ]
  },
  {
   "cell_type": "markdown",
   "metadata": {},
   "source": [
    "# 3.4. Evaluation du modèle final\n",
    "\n",
    "Différents tests existent pour vérifier la pertinence de notre modèle de régression. Cette partie est consacrée aux résultats de ces tests et leur interprétation.\n",
    "\n",
    "## 3.4.1. Multicolinéarité des variables explicatives\n",
    "\n",
    "Il est nécessaire de vérifier que les variables explicatives ne sont pas linéairement dépendantes pour pouvoir lancer un modèle de régression. Dans les faits, il est rare qu'une telle relation de multicolinéarité existe (c'est par exemple le cas de la variable \"note moyenne\", que l'on a retirée du modèle), mais il convient de la tester. En effet, si une variable explicative peut être approchée de façon précise par une combinaison linéaire des autres, alors les coefficients de régression souffriront d'une variance plus importante, et seront plus difficiles à interpréter.\n",
    "\n",
    "Une approche pour tester la multicolinéarité consiste à examiner les facteurs d’inflation de la variance (FIV). Selon Joseph Larmarange (https://larmarange.github.io/analyse-R/multicolinearite.html), les FIV estiment de combien la variance d’un coefficient est augmentée en raison d’une relation linéaire avec d’autres prédicteurs. Si tous les FIV sont égaux à 1, il n’existe pas de multicolinéarité, mais si certains FIV sont supérieurs à 1, les prédicteurs sont corrélés. Il n'y a pas de test pour vérifier la multicolinéarité, mais on commence à émettre un doute sur une variable explicative lorsque le FIV est supérieur à 2,5.\n"
   ]
  },
  {
   "cell_type": "code",
   "execution_count": 259,
   "metadata": {},
   "outputs": [
    {
     "data": {
      "text/plain": [
       "[1.2287351287390536,\n",
       " 1.3665604236153728,\n",
       " 1.1237673121123966,\n",
       " 1.1227026856004267,\n",
       " 1.369653202954623,\n",
       " 1.1072311198093743,\n",
       " 1.134057714142155,\n",
       " 1.1930084021276444,\n",
       " 1.4671462906829444,\n",
       " 1.085825717716758,\n",
       " 1.0880076488796646,\n",
       " 1.2792822836049091,\n",
       " 1.2514604457383427]"
      ]
     },
     "execution_count": 259,
     "metadata": {},
     "output_type": "execute_result"
    }
   ],
   "source": [
    "variables = model_fin.model.exog\n",
    "[variance_inflation_factor(variables, i) for i in np.arange(1,variables.shape[1])]"
   ]
  },
  {
   "cell_type": "markdown",
   "metadata": {},
   "source": [
    "Dans notre modèle, tous les FIV sont proches de 1, donc il ne semble pas y avoir de problème de multicolinéarité.\n",
    "\n",
    "## 3.4.2. Normalité des résidus\n",
    "\n",
    "La normalité des résidus n'est pas obligatoire pour effectuer la régression. C'est surtout une hypothèse forte qui permet de déduire directement l'exogénéité et l'homoscédasticité des résidus.\n",
    "\n",
    "Pour vérifier cette hypothèse, on peut appliquer le test de normalité de Shapiro-Wilk (qui est initialement prévu pour tester la normalité d'un échantillon) aux résidus de notre modèle de régression."
   ]
  },
  {
   "cell_type": "code",
   "execution_count": 260,
   "metadata": {},
   "outputs": [
    {
     "data": {
      "text/plain": [
       "ShapiroResult(statistic=0.9245578646659851, pvalue=7.60505617898935e-14)"
      ]
     },
     "execution_count": 260,
     "metadata": {},
     "output_type": "execute_result"
    }
   ],
   "source": [
    "shapiro(model_fin.resid)"
   ]
  },
  {
   "cell_type": "markdown",
   "metadata": {},
   "source": [
    "La p-value est inférieure à 5%, donc on rejette l'hypothèse de normalité des résidus.\n",
    "\n",
    "## 3.4.3. Homoscédasticité des résidus\n",
    "\n",
    "L'homoscédasticité des résidus signifie que la distance entre les observations et la droite de régression (autrement dit, le terme d'erreur) est constante avec notre variable d'intérêt (ici, le prix des hôtels). Cette hypothèse n'est pas nécessaire pour pouvoir lancer un modèle de régression, mais permet de bénéficier de résultats plus précis (la variance des coefficients MCO obtenus est plus petite). Si cette hypothèse n'est pas vérifiée :\n",
    "\n",
    "- L’estimateur du paramètre $\\beta$ n'est plus (asymptotiquement) efficace\n",
    "- L'estimateur de $\\sigma^2$ est biaisé\n",
    "- L’estimateur de la matrice variance-covariance du vecteur $\\beta$ est biaisé\n",
    "\n",
    "Cela provoque un problème dans la construction des intervalles de confiance, et peut aboutir à des tests erronés. Il faudrait alors modifier certaines interprétations de notre modèle. L'homoscédasticité est généralement supposée par Stata et Python : autrement dit, si le modèle s'avère hétéroscédastique, il faut l'indiquer à Python.\n",
    "\n",
    "L'hypothèse d'homoscédasticité est vérifiable à l'aide du test de Breusch-Pagan, que l'on lance ci-dessous.\n"
   ]
  },
  {
   "cell_type": "code",
   "execution_count": 261,
   "metadata": {},
   "outputs": [
    {
     "data": {
      "text/plain": [
       "0.0007041425577245826"
      ]
     },
     "execution_count": 261,
     "metadata": {},
     "output_type": "execute_result"
    }
   ],
   "source": [
    "_, pval, __, f_pval = hb(model_fin.resid, variables)\n",
    "pval"
   ]
  },
  {
   "cell_type": "markdown",
   "metadata": {},
   "source": [
    "La p-valeur ici est inférieure à  5 %, donc on rejette l'hypothèse $(H_0)$ selon laquelle les variances sont constantes. Autrement dit, on accepte l'hypothèse $(H_1)$ selon laquelle les erreurs sont hétéroscédastiques. On avait déjà anticipé ce résultat graphiquement (voir partie 3.3.2). Il convient donc de préférer un modèle robuste à l'homoscédasticité. Nous corrigeons donc le modèle final en ajoutant cette option. "
   ]
  },
  {
   "cell_type": "code",
   "execution_count": 262,
   "metadata": {},
   "outputs": [
    {
     "data": {
      "text/html": [
       "<table class=\"simpletable\">\n",
       "<caption>OLS Regression Results</caption>\n",
       "<tr>\n",
       "  <th>Dep. Variable:</th>          <td>Prix</td>       <th>  R-squared:         </th> <td>   0.398</td>\n",
       "</tr>\n",
       "<tr>\n",
       "  <th>Model:</th>                   <td>OLS</td>       <th>  Adj. R-squared:    </th> <td>   0.379</td>\n",
       "</tr>\n",
       "<tr>\n",
       "  <th>Method:</th>             <td>Least Squares</td>  <th>  F-statistic:       </th> <td>   21.63</td>\n",
       "</tr>\n",
       "<tr>\n",
       "  <th>Date:</th>             <td>Thu, 06 Jan 2022</td> <th>  Prob (F-statistic):</th> <td>3.80e-39</td>\n",
       "</tr>\n",
       "<tr>\n",
       "  <th>Time:</th>                 <td>11:26:55</td>     <th>  Log-Likelihood:    </th> <td> -2258.5</td>\n",
       "</tr>\n",
       "<tr>\n",
       "  <th>No. Observations:</th>      <td>   428</td>      <th>  AIC:               </th> <td>   4545.</td>\n",
       "</tr>\n",
       "<tr>\n",
       "  <th>Df Residuals:</th>          <td>   414</td>      <th>  BIC:               </th> <td>   4602.</td>\n",
       "</tr>\n",
       "<tr>\n",
       "  <th>Df Model:</th>              <td>    13</td>      <th>                     </th>     <td> </td>   \n",
       "</tr>\n",
       "<tr>\n",
       "  <th>Covariance Type:</th>         <td>HC1</td>       <th>                     </th>     <td> </td>   \n",
       "</tr>\n",
       "</table>\n",
       "<table class=\"simpletable\">\n",
       "<tr>\n",
       "                 <td></td>                   <th>coef</th>     <th>std err</th>      <th>z</th>      <th>P>|z|</th>  <th>[0.025</th>    <th>0.975]</th>  \n",
       "</tr>\n",
       "<tr>\n",
       "  <th>Intercept</th>                      <td>  122.3439</td> <td>    3.975</td> <td>   30.780</td> <td> 0.000</td> <td>  114.554</td> <td>  130.134</td>\n",
       "</tr>\n",
       "<tr>\n",
       "  <th>cinq_etoiles[T.True]</th>           <td>   21.9810</td> <td>    8.814</td> <td>    2.494</td> <td> 0.013</td> <td>    4.706</td> <td>   39.256</td>\n",
       "</tr>\n",
       "<tr>\n",
       "  <th>quatre_etoiles[T.True]</th>         <td>   36.7188</td> <td>    4.965</td> <td>    7.395</td> <td> 0.000</td> <td>   26.987</td> <td>   46.451</td>\n",
       "</tr>\n",
       "<tr>\n",
       "  <th>moins_de_trois_etoiles[T.True]</th> <td>   -9.9284</td> <td>    6.832</td> <td>   -1.453</td> <td> 0.146</td> <td>  -23.319</td> <td>    3.462</td>\n",
       "</tr>\n",
       "<tr>\n",
       "  <th>persoTB[T.True]</th>                <td>   45.9963</td> <td>   11.040</td> <td>    4.166</td> <td> 0.000</td> <td>   24.358</td> <td>   67.635</td>\n",
       "</tr>\n",
       "<tr>\n",
       "  <th>persoM[T.True]</th>                 <td>   -9.3703</td> <td>   10.436</td> <td>   -0.898</td> <td> 0.369</td> <td>  -29.824</td> <td>   11.083</td>\n",
       "</tr>\n",
       "<tr>\n",
       "  <th>equipTB[T.True]</th>                <td>   24.6786</td> <td>    8.047</td> <td>    3.067</td> <td> 0.002</td> <td>    8.906</td> <td>   40.451</td>\n",
       "</tr>\n",
       "<tr>\n",
       "  <th>equipM[T.True]</th>                 <td>  -36.1366</td> <td>    9.280</td> <td>   -3.894</td> <td> 0.000</td> <td>  -54.324</td> <td>  -17.949</td>\n",
       "</tr>\n",
       "<tr>\n",
       "  <th>situTB[T.True]</th>                 <td>   13.6891</td> <td>   15.352</td> <td>    0.892</td> <td> 0.373</td> <td>  -16.401</td> <td>   43.779</td>\n",
       "</tr>\n",
       "<tr>\n",
       "  <th>situM[T.True]</th>                  <td>   -9.5741</td> <td>   10.537</td> <td>   -0.909</td> <td> 0.364</td> <td>  -30.227</td> <td>   11.079</td>\n",
       "</tr>\n",
       "<tr>\n",
       "  <th>wifiTB[T.True]</th>                 <td>   34.1971</td> <td>   14.278</td> <td>    2.395</td> <td> 0.017</td> <td>    6.213</td> <td>   62.181</td>\n",
       "</tr>\n",
       "<tr>\n",
       "  <th>wifiM[T.True]</th>                  <td>  -18.2348</td> <td>    9.101</td> <td>   -2.004</td> <td> 0.045</td> <td>  -36.073</td> <td>   -0.397</td>\n",
       "</tr>\n",
       "<tr>\n",
       "  <th>Riche</th>                          <td>   18.0384</td> <td>    6.210</td> <td>    2.905</td> <td> 0.004</td> <td>    5.866</td> <td>   30.211</td>\n",
       "</tr>\n",
       "<tr>\n",
       "  <th>Sûr</th>                            <td>   18.0693</td> <td>    5.536</td> <td>    3.264</td> <td> 0.001</td> <td>    7.219</td> <td>   28.919</td>\n",
       "</tr>\n",
       "</table>\n",
       "<table class=\"simpletable\">\n",
       "<tr>\n",
       "  <th>Omnibus:</th>       <td>125.433</td> <th>  Durbin-Watson:     </th> <td>   1.674</td>\n",
       "</tr>\n",
       "<tr>\n",
       "  <th>Prob(Omnibus):</th> <td> 0.000</td>  <th>  Jarque-Bera (JB):  </th> <td> 396.468</td>\n",
       "</tr>\n",
       "<tr>\n",
       "  <th>Skew:</th>          <td> 1.342</td>  <th>  Prob(JB):          </th> <td>8.09e-87</td>\n",
       "</tr>\n",
       "<tr>\n",
       "  <th>Kurtosis:</th>      <td> 6.876</td>  <th>  Cond. No.          </th> <td>    8.43</td>\n",
       "</tr>\n",
       "</table><br/><br/>Warnings:<br/>[1] Standard Errors are heteroscedasticity robust (HC1)"
      ],
      "text/plain": [
       "<class 'statsmodels.iolib.summary.Summary'>\n",
       "\"\"\"\n",
       "                            OLS Regression Results                            \n",
       "==============================================================================\n",
       "Dep. Variable:                   Prix   R-squared:                       0.398\n",
       "Model:                            OLS   Adj. R-squared:                  0.379\n",
       "Method:                 Least Squares   F-statistic:                     21.63\n",
       "Date:                Thu, 06 Jan 2022   Prob (F-statistic):           3.80e-39\n",
       "Time:                        11:26:55   Log-Likelihood:                -2258.5\n",
       "No. Observations:                 428   AIC:                             4545.\n",
       "Df Residuals:                     414   BIC:                             4602.\n",
       "Df Model:                          13                                         \n",
       "Covariance Type:                  HC1                                         \n",
       "==================================================================================================\n",
       "                                     coef    std err          z      P>|z|      [0.025      0.975]\n",
       "--------------------------------------------------------------------------------------------------\n",
       "Intercept                        122.3439      3.975     30.780      0.000     114.554     130.134\n",
       "cinq_etoiles[T.True]              21.9810      8.814      2.494      0.013       4.706      39.256\n",
       "quatre_etoiles[T.True]            36.7188      4.965      7.395      0.000      26.987      46.451\n",
       "moins_de_trois_etoiles[T.True]    -9.9284      6.832     -1.453      0.146     -23.319       3.462\n",
       "persoTB[T.True]                   45.9963     11.040      4.166      0.000      24.358      67.635\n",
       "persoM[T.True]                    -9.3703     10.436     -0.898      0.369     -29.824      11.083\n",
       "equipTB[T.True]                   24.6786      8.047      3.067      0.002       8.906      40.451\n",
       "equipM[T.True]                   -36.1366      9.280     -3.894      0.000     -54.324     -17.949\n",
       "situTB[T.True]                    13.6891     15.352      0.892      0.373     -16.401      43.779\n",
       "situM[T.True]                     -9.5741     10.537     -0.909      0.364     -30.227      11.079\n",
       "wifiTB[T.True]                    34.1971     14.278      2.395      0.017       6.213      62.181\n",
       "wifiM[T.True]                    -18.2348      9.101     -2.004      0.045     -36.073      -0.397\n",
       "Riche                             18.0384      6.210      2.905      0.004       5.866      30.211\n",
       "Sûr                               18.0693      5.536      3.264      0.001       7.219      28.919\n",
       "==============================================================================\n",
       "Omnibus:                      125.433   Durbin-Watson:                   1.674\n",
       "Prob(Omnibus):                  0.000   Jarque-Bera (JB):              396.468\n",
       "Skew:                           1.342   Prob(JB):                     8.09e-87\n",
       "Kurtosis:                       6.876   Cond. No.                         8.43\n",
       "==============================================================================\n",
       "\n",
       "Warnings:\n",
       "[1] Standard Errors are heteroscedasticity robust (HC1)\n",
       "\"\"\""
      ]
     },
     "execution_count": 262,
     "metadata": {},
     "output_type": "execute_result"
    }
   ],
   "source": [
    "smf.ols('Prix ~ cinq_etoiles + quatre_etoiles + moins_de_trois_etoiles + Riche + Sûr + persoTB + persoM + equipTB + equipM + situTB + situM + wifiTB + wifiM', data=df).fit(cov_type='HC1').summary()"
   ]
  },
  {
   "cell_type": "markdown",
   "metadata": {},
   "source": [
    "Par rapport au modèle précédent, les coefficients de la régression sont identiques, le $R^2$ aussi, mais les écarts-types sont différents. De fait, on n'obtient pas les mêmes résultats aux tests de significativité des variables explicatives.\n",
    "\n",
    "Ainsi, selon ce nouveau modèle, le fait qu'un hôtel ait moins de 3 étoiles ou que le personnel soit mal évalué n'a pas d'effet marginal significatif (au niveau de risque 5%) sur le prix de réservation. De même, l'emplacement de l'hôtel ne semble pas jouer de rôle significatif sur le prix."
   ]
  }
 ],
 "metadata": {
  "kernelspec": {
   "display_name": "Python 3",
   "language": "python",
   "name": "python3"
  },
  "language_info": {
   "codemirror_mode": {
    "name": "ipython",
    "version": 3
   },
   "file_extension": ".py",
   "mimetype": "text/x-python",
   "name": "python",
   "nbconvert_exporter": "python",
   "pygments_lexer": "ipython3",
   "version": "3.8.3"
  }
 },
 "nbformat": 4,
 "nbformat_minor": 5
}
