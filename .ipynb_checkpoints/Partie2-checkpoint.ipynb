{
 "cells": [
  {
   "cell_type": "markdown",
   "metadata": {},
   "source": [
    "# Scrapping des données de chaque hotel\n",
    "\n",
    "Pour chaque hotel, nous aimerions avoir le détail des notes qui font sa note moyenne, en fonction de différents critères comme le personnel, le confort, la connexion Wi-fi gratuite ou encore la situation géographique "
   ]
  },
  {
   "cell_type": "markdown",
   "metadata": {},
   "source": [
    "### Préliminaires \n",
    "\n",
    "Pour scraper des données sur le site booking.com, il est nécessaire d'utiliser selenium. Le fichier webdriver.exe doit être placé dans le même dossier que le code ipynb.(si problèmes avec ça on peut utiliser ChromeDriverManager comme j'ai du le faire)"
   ]
  },
  {
   "cell_type": "code",
   "execution_count": null,
   "metadata": {},
   "outputs": [],
   "source": [
    "!pip install webdriver-manager\n",
    "from webdriver_manager.chrome import ChromeDriverManager"
   ]
  },
  {
   "cell_type": "code",
   "execution_count": 14,
   "metadata": {},
   "outputs": [],
   "source": [
    "from selenium import webdriver\n",
    "from selenium.webdriver.common.by import By\n",
    "from selenium.webdriver.support.ui import WebDriverWait \n",
    "from selenium.webdriver.support import expected_conditions as EC\n",
    "\n",
    "import pandas as pd"
   ]
  },
  {
   "cell_type": "markdown",
   "metadata": {},
   "source": [
    "### Scraping des url de chaques hotels \n",
    "\n",
    "Il s'agit de partir de la page des résultats d'une recherche booking (celle utilisée pour le scrapping Partie1) et de récupérer les liens href vers les pages de chaque hotel. Les fonctions utilisées sont similaires à celles utilisées en Partie1"
   ]
  },
  {
   "cell_type": "code",
   "execution_count": 4,
   "metadata": {},
   "outputs": [],
   "source": [
    "def cree_liste(url):\n",
    "    liste=[]\n",
    "    for i in range(40):\n",
    "        if i==0:\n",
    "            liste.append(url)\n",
    "        else:\n",
    "            liste.append(url+'&offset='+str(25*i))\n",
    "    return(liste)"
   ]
  },
  {
   "cell_type": "code",
   "execution_count": 5,
   "metadata": {},
   "outputs": [],
   "source": [
    "def recup_href(page):\n",
    "    href_hotel=[]\n",
    "    liste = cree_liste(page)\n",
    "    for i in range(40):\n",
    "    #On choisi ici le nombre de pages de résultats exploitées ; il y a 25 hôtels par pages \n",
    "        driver = webdriver.Chrome(ChromeDriverManager().install())\n",
    "        #driver = webdriver.Chrome()\n",
    "        driver.get(liste[i])\n",
    "        href_hotel+=[my_elem.get_attribute(\"href\") for my_elem in WebDriverWait(driver, 20).until(EC.visibility_of_all_elements_located((By.CSS_SELECTOR, \"h3._23bf57b84 > a\")))]           \n",
    "        driver.quit()\n",
    "    return(href_hotel)"
   ]
  },
  {
   "cell_type": "code",
   "execution_count": 6,
   "metadata": {},
   "outputs": [
    {
     "name": "stderr",
     "output_type": "stream",
     "text": [
      "\n",
      "\n",
      "====== WebDriver manager ======\n",
      "Current google-chrome version is 96.0.4664\n",
      "Get LATEST chromedriver version for 96.0.4664 google-chrome\n",
      "Driver [C:\\Users\\zeena\\.wdm\\drivers\\chromedriver\\win32\\96.0.4664.35\\chromedriver.exe] found in cache\n",
      "<ipython-input-5-0852269fd54f>:6: DeprecationWarning: executable_path has been deprecated, please pass in a Service object\n",
      "  driver = webdriver.Chrome(ChromeDriverManager().install())\n",
      "\n",
      "\n",
      "====== WebDriver manager ======\n",
      "Current google-chrome version is 96.0.4664\n",
      "Get LATEST chromedriver version for 96.0.4664 google-chrome\n",
      "Driver [C:\\Users\\zeena\\.wdm\\drivers\\chromedriver\\win32\\96.0.4664.35\\chromedriver.exe] found in cache\n",
      "\n",
      "\n",
      "====== WebDriver manager ======\n",
      "Current google-chrome version is 96.0.4664\n",
      "Get LATEST chromedriver version for 96.0.4664 google-chrome\n",
      "Driver [C:\\Users\\zeena\\.wdm\\drivers\\chromedriver\\win32\\96.0.4664.35\\chromedriver.exe] found in cache\n",
      "\n",
      "\n",
      "====== WebDriver manager ======\n",
      "Current google-chrome version is 96.0.4664\n",
      "Get LATEST chromedriver version for 96.0.4664 google-chrome\n",
      "Driver [C:\\Users\\zeena\\.wdm\\drivers\\chromedriver\\win32\\96.0.4664.35\\chromedriver.exe] found in cache\n"
     ]
    },
    {
     "name": "stdout",
     "output_type": "stream",
     "text": [
      "['https://www.booking.com/hotel/fr/america.fr.html?label=gog235jc-1FCAMoTTjjAkgNWANoTYgBAZgBDbgBF8gBDNgBAegBAfgBAogCAagCA7gCw9rQiwbAAgHSAiQ0NDlkNGU5ZC03NzAxLTQ5MzItYjdkYS0wMzVkNDI4NGRiNGXYAgXgAgE&sid=81cd22762f2169ba954d21a297ff0a64&aid=356980&ucfs=1&arphpl=1&dest_id=-1456928&dest_type=city&group_adults=2&req_adults=2&no_rooms=1&group_children=0&req_children=0&hpos=0&hapos=0&sr_order=popularity&srpvid=bd9a4190d63b00f4&srepoch=1637054369&from=searchresults#hotelTmpl', 'https://www.booking.com/hotel/fr/grand-amelot-paris4.fr.html?label=gog235jc-1FCAMoTTjjAkgNWANoTYgBAZgBDbgBF8gBDNgBAegBAfgBAogCAagCA7gCw9rQiwbAAgHSAiQ0NDlkNGU5ZC03NzAxLTQ5MzItYjdkYS0wMzVkNDI4NGRiNGXYAgXgAgE&sid=81cd22762f2169ba954d21a297ff0a64&aid=356980&ucfs=1&arphpl=1&dest_id=-1456928&dest_type=city&group_adults=2&req_adults=2&no_rooms=1&group_children=0&req_children=0&hpos=1&hapos=1&sr_order=popularity&srpvid=bd9a4190d63b00f4&srepoch=1637054369&from=searchresults#hotelTmpl', 'https://www.booking.com/hotel/fr/grey.fr.html?label=gog235jc-1FCAMoTTjjAkgNWANoTYgBAZgBDbgBF8gBDNgBAegBAfgBAogCAagCA7gCw9rQiwbAAgHSAiQ0NDlkNGU5ZC03NzAxLTQ5MzItYjdkYS0wMzVkNDI4NGRiNGXYAgXgAgE&sid=81cd22762f2169ba954d21a297ff0a64&aid=356980&ucfs=1&arphpl=1&dest_id=-1456928&dest_type=city&group_adults=2&req_adults=2&no_rooms=1&group_children=0&req_children=0&hpos=2&hapos=2&sr_order=popularity&srpvid=bd9a4190d63b00f4&srepoch=1637054369&from=searchresults#hotelTmpl']\n"
     ]
    }
   ],
   "source": [
    "page = 'https://www.booking.com/searchresults.fr.html?label=gog235jc-1FCAMoTTjjAkgNWANoTYgBAZgBDbgBF8gBDNgBAegBAfgBAogCAagCA7gCw9rQiwbAAgHSAiQ0NDlkNGU5ZC03NzAxLTQ5MzItYjdkYS0wMzVkNDI4NGRiNGXYAgXgAgE&sid=81cd22762f2169ba954d21a297ff0a64&aid=356980&src=searchresults&error_url=https%3A%2F%2Fwww.booking.com%2Fsearchresults.fr.html%3Faid%3D356980%3Blabel%3Dgog235jc-1FCAMoTTjjAkgNWANoTYgBAZgBDbgBF8gBDNgBAegBAfgBAogCAagCA7gCw9rQiwbAAgHSAiQ0NDlkNGU5ZC03NzAxLTQ5MzItYjdkYS0wMzVkNDI4NGRiNGXYAgXgAgE%3Bsid%3D81cd22762f2169ba954d21a297ff0a64%3Btmpl%3Dsearchresults%3Bcity%3D-1456928%3Bclass_interval%3D1%3Bdest_id%3D-1456928%3Bdest_type%3Dcity%3Bdtdisc%3D0%3Binac%3D0%3Bindex_postcard%3D0%3Blabel_click%3Dundef%3Boffset%3D0%3Bpostcard%3D0%3Broom1%3DA%252CA%3Bsb_price_type%3Dtotal%3Bshw_aparth%3D1%3Bslp_r_match%3D0%3Bsrpvid%3D227a56f9e7060099%3Bss_all%3D0%3Bssb%3Dempty%3Bsshis%3D0%3Btop_ufis%3D1%26%3B&ss=Paris&is_ski_area=0&ssne=Paris&ssne_untouched=Paris&city=-1456928&checkin_year=2021&checkin_month=11&checkin_monthday=6&checkout_year=2021&checkout_month=11&checkout_monthday=7&group_adults=2&group_children=0&no_rooms=1&sb_changed_dates=1&from_sf=1&nflt=ht_id%3D204'\n",
    "href_hotels=recup_href(page)\n",
    "print(href_hotels[:3])"
   ]
  },
  {
   "cell_type": "markdown",
   "metadata": {},
   "source": [
    "### Scraping du détail des notes de chaque hotel \n",
    "\n",
    "Nous allons créer une boucle sur les url de la liste href_hotels afin de scraper pour chaque hotel le détail de ses notes ainsi que son nom, et obtenir ainsi une dataframe concaténable à dfhotels "
   ]
  },
  {
   "cell_type": "markdown",
   "metadata": {},
   "source": [
    "Tout d'abbord on construit des fonctions de mise en forme des données obtenues par selenium "
   ]
  },
  {
   "cell_type": "code",
   "execution_count": 7,
   "metadata": {},
   "outputs": [
    {
     "data": {
      "text/plain": [
       "'Hotel Elysees Opera'"
      ]
     },
     "execution_count": 7,
     "metadata": {},
     "output_type": "execute_result"
    }
   ],
   "source": [
    "def mef_nom(nom):\n",
    "    x=\"\"\n",
    "    for lettre in nom:\n",
    "        x+=lettre\n",
    "    return x[6:]\n",
    "\n",
    "mef_nom(['H', 'ô', 't', 'e', 'l', ' ', 'H', 'o', 't', 'e', 'l', ' ', 'E', 'l', 'y', 's', 'e', 'e', 's', ' ', 'O', 'p', 'e', 'r', 'a'])"
   ]
  },
  {
   "cell_type": "code",
   "execution_count": 8,
   "metadata": {},
   "outputs": [
    {
     "data": {
      "text/plain": [
       "[9.4, 8.1, 8.6, 8.6, 8.2, 8.9, 8.3]"
      ]
     },
     "execution_count": 8,
     "metadata": {},
     "output_type": "execute_result"
    }
   ],
   "source": [
    "def mef_notes(notes):\n",
    "    y=[]\n",
    "    for note in notes:\n",
    "        y.append(float(note.replace(',' , '.')))\n",
    "    return y\n",
    "\n",
    "mef_notes(['9,4', '8,1', '8,6', '8,6', '8,2', '8,9', '8,3'])"
   ]
  },
  {
   "cell_type": "code",
   "execution_count": 9,
   "metadata": {},
   "outputs": [],
   "source": [
    "def recup_data(href):\n",
    "    hotel=[]\n",
    "    #dans l'ordre d'apparition sur la page\n",
    "    perso=[]\n",
    "    equip=[]\n",
    "    prop=[]\n",
    "    conf=[]\n",
    "    rap_qp=[]\n",
    "    situ=[]\n",
    "    wifi=[]\n",
    "    \n",
    "    for url in href :\n",
    "        driver = webdriver.Chrome(ChromeDriverManager().install())\n",
    "        #driver = webdriver.Chrome()\n",
    "        driver.get(url)\n",
    "        nom=WebDriverWait(driver, 10).until(EC.visibility_of_element_located((By.XPATH, \"//div[@class='hp__hotel-title']/h2\"))).text\n",
    "        notes=[elem.get_attribute(\"innerHTML\") for elem in driver.find_elements_by_xpath(\"//div[@class='c-score-bar']//span[@class='c-score-bar__score']\")]\n",
    "        #la liste des notes est dans l'ordre : perso,equip... \n",
    "        \n",
    "        nom=mef_nom(nom)\n",
    "        notes=mef_notes(notes)\n",
    "        \n",
    "        #print(\"NEW\")\n",
    "        #print(nom)\n",
    "        #print(notes[:7])\n",
    "        \n",
    "        #Ajout aux listes globales \n",
    "        hotel.append(nom)\n",
    "        perso.append(notes[0])\n",
    "        equip.append(notes[1])\n",
    "        prop.append(notes[2])\n",
    "        conf.append(notes[3])\n",
    "        rap_qp.append(notes[4])\n",
    "        situ.append(notes[5])\n",
    "        wifi.append(notes[6])  \n",
    "\n",
    "        driver.quit()\n",
    "    \n",
    "    df = pd.DataFrame({'hotel':hotel,'perso':perso,'equip':equip,'prop':prop,'conf':conf,'rap_qp':rap_qp,'situ':situ,'wifi':wifi})\n",
    "    \n",
    "    return df\n",
    "        "
   ]
  },
  {
   "cell_type": "code",
   "execution_count": 10,
   "metadata": {},
   "outputs": [
    {
     "name": "stderr",
     "output_type": "stream",
     "text": [
      "\n",
      "\n",
      "====== WebDriver manager ======\n",
      "Current google-chrome version is 96.0.4664\n",
      "Get LATEST chromedriver version for 96.0.4664 google-chrome\n",
      "Driver [C:\\Users\\zeena\\.wdm\\drivers\\chromedriver\\win32\\96.0.4664.35\\chromedriver.exe] found in cache\n",
      "<ipython-input-9-6949956f27bc>:13: DeprecationWarning: executable_path has been deprecated, please pass in a Service object\n",
      "  driver = webdriver.Chrome(ChromeDriverManager().install())\n",
      "<ipython-input-9-6949956f27bc>:17: DeprecationWarning: find_elements_by_* commands are deprecated. Please use find_elements() instead\n",
      "  notes=[elem.get_attribute(\"innerHTML\") for elem in driver.find_elements_by_xpath(\"//div[@class='c-score-bar']//span[@class='c-score-bar__score']\")]\n"
     ]
    },
    {
     "name": "stdout",
     "output_type": "stream",
     "text": [
      "NEW\n",
      "Hotel Elysees Opera\n",
      "[9.4, 8.1, 8.6, 8.6, 8.2, 8.9, 8.3]\n"
     ]
    },
    {
     "name": "stderr",
     "output_type": "stream",
     "text": [
      "\n",
      "\n",
      "====== WebDriver manager ======\n",
      "Current google-chrome version is 96.0.4664\n",
      "Get LATEST chromedriver version for 96.0.4664 google-chrome\n",
      "Driver [C:\\Users\\zeena\\.wdm\\drivers\\chromedriver\\win32\\96.0.4664.35\\chromedriver.exe] found in cache\n"
     ]
    },
    {
     "name": "stdout",
     "output_type": "stream",
     "text": [
      "NEW\n",
      "Grand Hôtel Amelot\n",
      "[9.0, 7.6, 8.2, 7.9, 7.8, 8.8, 8.3]\n"
     ]
    },
    {
     "name": "stderr",
     "output_type": "stream",
     "text": [
      "\n",
      "\n",
      "====== WebDriver manager ======\n",
      "Current google-chrome version is 96.0.4664\n",
      "Get LATEST chromedriver version for 96.0.4664 google-chrome\n",
      "Driver [C:\\Users\\zeena\\.wdm\\drivers\\chromedriver\\win32\\96.0.4664.35\\chromedriver.exe] found in cache\n"
     ]
    },
    {
     "name": "stdout",
     "output_type": "stream",
     "text": [
      "NEW\n",
      "Le Grey Hotel\n",
      "[9.5, 9.0, 9.4, 9.3, 8.9, 9.2, 9.4]\n"
     ]
    }
   ],
   "source": [
    "df1=recup_data(href_hotels)"
   ]
  },
  {
   "cell_type": "code",
   "execution_count": 12,
   "metadata": {},
   "outputs": [
    {
     "data": {
      "text/html": [
       "<div>\n",
       "<style scoped>\n",
       "    .dataframe tbody tr th:only-of-type {\n",
       "        vertical-align: middle;\n",
       "    }\n",
       "\n",
       "    .dataframe tbody tr th {\n",
       "        vertical-align: top;\n",
       "    }\n",
       "\n",
       "    .dataframe thead th {\n",
       "        text-align: right;\n",
       "    }\n",
       "</style>\n",
       "<table border=\"1\" class=\"dataframe\">\n",
       "  <thead>\n",
       "    <tr style=\"text-align: right;\">\n",
       "      <th></th>\n",
       "      <th>hotel</th>\n",
       "      <th>perso</th>\n",
       "      <th>equip</th>\n",
       "      <th>prop</th>\n",
       "      <th>conf</th>\n",
       "      <th>rap_qp</th>\n",
       "      <th>situ</th>\n",
       "      <th>wifi</th>\n",
       "    </tr>\n",
       "  </thead>\n",
       "  <tbody>\n",
       "    <tr>\n",
       "      <th>0</th>\n",
       "      <td>Hotel Elysees Opera</td>\n",
       "      <td>9.4</td>\n",
       "      <td>8.1</td>\n",
       "      <td>8.6</td>\n",
       "      <td>8.6</td>\n",
       "      <td>8.2</td>\n",
       "      <td>8.9</td>\n",
       "      <td>8.3</td>\n",
       "    </tr>\n",
       "    <tr>\n",
       "      <th>1</th>\n",
       "      <td>Grand Hôtel Amelot</td>\n",
       "      <td>9.0</td>\n",
       "      <td>7.6</td>\n",
       "      <td>8.2</td>\n",
       "      <td>7.9</td>\n",
       "      <td>7.8</td>\n",
       "      <td>8.8</td>\n",
       "      <td>8.3</td>\n",
       "    </tr>\n",
       "    <tr>\n",
       "      <th>2</th>\n",
       "      <td>Le Grey Hotel</td>\n",
       "      <td>9.5</td>\n",
       "      <td>9.0</td>\n",
       "      <td>9.4</td>\n",
       "      <td>9.3</td>\n",
       "      <td>8.9</td>\n",
       "      <td>9.2</td>\n",
       "      <td>9.4</td>\n",
       "    </tr>\n",
       "  </tbody>\n",
       "</table>\n",
       "</div>"
      ],
      "text/plain": [
       "                 hotel  perso  equip  prop  conf  rap_qp  situ  wifi\n",
       "0  Hotel Elysees Opera    9.4    8.1   8.6   8.6     8.2   8.9   8.3\n",
       "1   Grand Hôtel Amelot    9.0    7.6   8.2   7.9     7.8   8.8   8.3\n",
       "2        Le Grey Hotel    9.5    9.0   9.4   9.3     8.9   9.2   9.4"
      ]
     },
     "execution_count": 12,
     "metadata": {},
     "output_type": "execute_result"
    }
   ],
   "source": [
    "df1.head()"
   ]
  },
  {
   "cell_type": "markdown",
   "metadata": {},
   "source": [
    "### Ajout de ces nouvelles données à dfhotels"
   ]
  },
  {
   "cell_type": "code",
   "execution_count": 15,
   "metadata": {},
   "outputs": [
    {
     "data": {
      "text/html": [
       "<div>\n",
       "<style scoped>\n",
       "    .dataframe tbody tr th:only-of-type {\n",
       "        vertical-align: middle;\n",
       "    }\n",
       "\n",
       "    .dataframe tbody tr th {\n",
       "        vertical-align: top;\n",
       "    }\n",
       "\n",
       "    .dataframe thead th {\n",
       "        text-align: right;\n",
       "    }\n",
       "</style>\n",
       "<table border=\"1\" class=\"dataframe\">\n",
       "  <thead>\n",
       "    <tr style=\"text-align: right;\">\n",
       "      <th></th>\n",
       "      <th>Unnamed: 0</th>\n",
       "      <th>Hôtels</th>\n",
       "      <th>Note moyenne</th>\n",
       "      <th>Nombre de commentaires</th>\n",
       "      <th>Prix</th>\n",
       "      <th>Arrondissement</th>\n",
       "    </tr>\n",
       "  </thead>\n",
       "  <tbody>\n",
       "    <tr>\n",
       "      <th>0</th>\n",
       "      <td>0</td>\n",
       "      <td>Vice Versa</td>\n",
       "      <td>7,9</td>\n",
       "      <td>573 expériences vécues</td>\n",
       "      <td>€ 126</td>\n",
       "      <td>15e arr., Paris</td>\n",
       "    </tr>\n",
       "    <tr>\n",
       "      <th>1</th>\n",
       "      <td>1</td>\n",
       "      <td>Le Robinet d'Or</td>\n",
       "      <td>9,0</td>\n",
       "      <td>646 expériences vécues</td>\n",
       "      <td>€ 184</td>\n",
       "      <td>10e arr., Paris</td>\n",
       "    </tr>\n",
       "    <tr>\n",
       "      <th>2</th>\n",
       "      <td>2</td>\n",
       "      <td>Hôtel Gaston</td>\n",
       "      <td>8,2</td>\n",
       "      <td>375 expériences vécues</td>\n",
       "      <td>€ 111</td>\n",
       "      <td>17e arr., Paris</td>\n",
       "    </tr>\n",
       "    <tr>\n",
       "      <th>3</th>\n",
       "      <td>3</td>\n",
       "      <td>Absolute Hotel Paris République</td>\n",
       "      <td>7,9</td>\n",
       "      <td>2 519 expériences vécues</td>\n",
       "      <td>€ 136</td>\n",
       "      <td>11e arr., Paris</td>\n",
       "    </tr>\n",
       "    <tr>\n",
       "      <th>4</th>\n",
       "      <td>4</td>\n",
       "      <td>The ReMIX Hotel</td>\n",
       "      <td>8,4</td>\n",
       "      <td>1 116 expériences vécues</td>\n",
       "      <td>€ 99</td>\n",
       "      <td>19e arr., Paris</td>\n",
       "    </tr>\n",
       "  </tbody>\n",
       "</table>\n",
       "</div>"
      ],
      "text/plain": [
       "   Unnamed: 0                           Hôtels Note moyenne  \\\n",
       "0           0                       Vice Versa          7,9   \n",
       "1           1                  Le Robinet d'Or          9,0   \n",
       "2           2                     Hôtel Gaston          8,2   \n",
       "3           3  Absolute Hotel Paris République          7,9   \n",
       "4           4                  The ReMIX Hotel          8,4   \n",
       "\n",
       "     Nombre de commentaires   Prix   Arrondissement  \n",
       "0    573 expériences vécues  € 126  15e arr., Paris  \n",
       "1    646 expériences vécues  € 184  10e arr., Paris  \n",
       "2    375 expériences vécues  € 111  17e arr., Paris  \n",
       "3  2 519 expériences vécues  € 136  11e arr., Paris  \n",
       "4  1 116 expériences vécues   € 99  19e arr., Paris  "
      ]
     },
     "execution_count": 15,
     "metadata": {},
     "output_type": "execute_result"
    }
   ],
   "source": [
    "df2=pd.read_excel(\"C:/Users/zeena/OneDrive/Bureau/ENSAE 2A/Python/dfhotels.xlsx\")\n",
    "df2.head()"
   ]
  },
  {
   "cell_type": "code",
   "execution_count": null,
   "metadata": {},
   "outputs": [],
   "source": [
    "dfhotels2 = dfhotels.drop_duplicates()\n",
    "dfhotels2 = dfhotels.dropna()\n",
    "dfhotels2.to_excel('dfhotels2.xlsx')"
   ]
  }
 ],
 "metadata": {
  "kernelspec": {
   "display_name": "Python 3",
   "language": "python",
   "name": "python3"
  },
  "language_info": {
   "codemirror_mode": {
    "name": "ipython",
    "version": 3
   },
   "file_extension": ".py",
   "mimetype": "text/x-python",
   "name": "python",
   "nbconvert_exporter": "python",
   "pygments_lexer": "ipython3",
   "version": "3.8.8"
  }
 },
 "nbformat": 4,
 "nbformat_minor": 4
}
